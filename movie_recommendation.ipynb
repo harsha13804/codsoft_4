{
  "nbformat": 4,
  "nbformat_minor": 0,
  "metadata": {
    "colab": {
      "provenance": [],
      "mount_file_id": "1Cy2fQyao_HGEEQ5XAeW2J6iXP_0VZrE2",
      "authorship_tag": "ABX9TyPuK109P7B88Smy8uVq9WqB"
    },
    "kernelspec": {
      "name": "python3",
      "display_name": "Python 3"
    },
    "language_info": {
      "name": "python"
    }
  },
  "cells": [
    {
      "cell_type": "code",
      "execution_count": null,
      "metadata": {
        "id": "8GoFgalTK0yj",
        "colab": {
          "base_uri": "https://localhost:8080/",
          "height": 365
        },
        "outputId": "d066b2ea-77a9-4ad8-b84d-c3cbd6d4a4cb"
      },
      "outputs": [
        {
          "output_type": "execute_result",
          "data": {
            "text/plain": [
              "                                       Movie   LeadStudio  RottenTomatoes  \\\n",
              "0                               Spider-Man 3         Sony            61.0   \n",
              "1                            Shrek the Third    Paramount            42.0   \n",
              "2                               Transformers    Paramount            57.0   \n",
              "3   Pirates of the Caribbean: At World's End       Disney            45.0   \n",
              "4  Harry Potter and the Order of the Phoenix  Warner Bros            78.0   \n",
              "\n",
              "   AudienceScore          Story      Genre  TheatersOpenWeek  OpeningWeekend  \\\n",
              "0           54.0  Metamorphosis     Action            4252.0           151.1   \n",
              "1           57.0          Quest  Animation            4122.0           121.6   \n",
              "2           89.0  Monster Force     Action            4011.0            70.5   \n",
              "3           74.0         Rescue     Action            4362.0           114.7   \n",
              "4           82.0          Quest  Adventure            4285.0            77.1   \n",
              "\n",
              "   BOAvgOpenWeekend  DomesticGross  ForeignGross  WorldGross  Budget  \\\n",
              "0           35540.0         336.53        554.34      890.87   258.0   \n",
              "1           29507.0         322.72        476.24      798.96   160.0   \n",
              "2           17577.0         319.25        390.46      709.71   150.0   \n",
              "3           26302.0         309.42        654.00      963.42   300.0   \n",
              "4           17998.0         292.00        647.88      939.89   150.0   \n",
              "\n",
              "   Profitability  OpenProfit  Year  \n",
              "0         345.30       58.57  2007  \n",
              "1         499.35       76.00  2007  \n",
              "2         473.14       47.00  2007  \n",
              "3         321.14       38.23  2007  \n",
              "4         626.59       51.40  2007  "
            ],
            "text/html": [
              "\n",
              "  <div id=\"df-ee2530eb-081b-4090-be76-c2a819477369\" class=\"colab-df-container\">\n",
              "    <div>\n",
              "<style scoped>\n",
              "    .dataframe tbody tr th:only-of-type {\n",
              "        vertical-align: middle;\n",
              "    }\n",
              "\n",
              "    .dataframe tbody tr th {\n",
              "        vertical-align: top;\n",
              "    }\n",
              "\n",
              "    .dataframe thead th {\n",
              "        text-align: right;\n",
              "    }\n",
              "</style>\n",
              "<table border=\"1\" class=\"dataframe\">\n",
              "  <thead>\n",
              "    <tr style=\"text-align: right;\">\n",
              "      <th></th>\n",
              "      <th>Movie</th>\n",
              "      <th>LeadStudio</th>\n",
              "      <th>RottenTomatoes</th>\n",
              "      <th>AudienceScore</th>\n",
              "      <th>Story</th>\n",
              "      <th>Genre</th>\n",
              "      <th>TheatersOpenWeek</th>\n",
              "      <th>OpeningWeekend</th>\n",
              "      <th>BOAvgOpenWeekend</th>\n",
              "      <th>DomesticGross</th>\n",
              "      <th>ForeignGross</th>\n",
              "      <th>WorldGross</th>\n",
              "      <th>Budget</th>\n",
              "      <th>Profitability</th>\n",
              "      <th>OpenProfit</th>\n",
              "      <th>Year</th>\n",
              "    </tr>\n",
              "  </thead>\n",
              "  <tbody>\n",
              "    <tr>\n",
              "      <th>0</th>\n",
              "      <td>Spider-Man 3</td>\n",
              "      <td>Sony</td>\n",
              "      <td>61.0</td>\n",
              "      <td>54.0</td>\n",
              "      <td>Metamorphosis</td>\n",
              "      <td>Action</td>\n",
              "      <td>4252.0</td>\n",
              "      <td>151.1</td>\n",
              "      <td>35540.0</td>\n",
              "      <td>336.53</td>\n",
              "      <td>554.34</td>\n",
              "      <td>890.87</td>\n",
              "      <td>258.0</td>\n",
              "      <td>345.30</td>\n",
              "      <td>58.57</td>\n",
              "      <td>2007</td>\n",
              "    </tr>\n",
              "    <tr>\n",
              "      <th>1</th>\n",
              "      <td>Shrek the Third</td>\n",
              "      <td>Paramount</td>\n",
              "      <td>42.0</td>\n",
              "      <td>57.0</td>\n",
              "      <td>Quest</td>\n",
              "      <td>Animation</td>\n",
              "      <td>4122.0</td>\n",
              "      <td>121.6</td>\n",
              "      <td>29507.0</td>\n",
              "      <td>322.72</td>\n",
              "      <td>476.24</td>\n",
              "      <td>798.96</td>\n",
              "      <td>160.0</td>\n",
              "      <td>499.35</td>\n",
              "      <td>76.00</td>\n",
              "      <td>2007</td>\n",
              "    </tr>\n",
              "    <tr>\n",
              "      <th>2</th>\n",
              "      <td>Transformers</td>\n",
              "      <td>Paramount</td>\n",
              "      <td>57.0</td>\n",
              "      <td>89.0</td>\n",
              "      <td>Monster Force</td>\n",
              "      <td>Action</td>\n",
              "      <td>4011.0</td>\n",
              "      <td>70.5</td>\n",
              "      <td>17577.0</td>\n",
              "      <td>319.25</td>\n",
              "      <td>390.46</td>\n",
              "      <td>709.71</td>\n",
              "      <td>150.0</td>\n",
              "      <td>473.14</td>\n",
              "      <td>47.00</td>\n",
              "      <td>2007</td>\n",
              "    </tr>\n",
              "    <tr>\n",
              "      <th>3</th>\n",
              "      <td>Pirates of the Caribbean: At World's End</td>\n",
              "      <td>Disney</td>\n",
              "      <td>45.0</td>\n",
              "      <td>74.0</td>\n",
              "      <td>Rescue</td>\n",
              "      <td>Action</td>\n",
              "      <td>4362.0</td>\n",
              "      <td>114.7</td>\n",
              "      <td>26302.0</td>\n",
              "      <td>309.42</td>\n",
              "      <td>654.00</td>\n",
              "      <td>963.42</td>\n",
              "      <td>300.0</td>\n",
              "      <td>321.14</td>\n",
              "      <td>38.23</td>\n",
              "      <td>2007</td>\n",
              "    </tr>\n",
              "    <tr>\n",
              "      <th>4</th>\n",
              "      <td>Harry Potter and the Order of the Phoenix</td>\n",
              "      <td>Warner Bros</td>\n",
              "      <td>78.0</td>\n",
              "      <td>82.0</td>\n",
              "      <td>Quest</td>\n",
              "      <td>Adventure</td>\n",
              "      <td>4285.0</td>\n",
              "      <td>77.1</td>\n",
              "      <td>17998.0</td>\n",
              "      <td>292.00</td>\n",
              "      <td>647.88</td>\n",
              "      <td>939.89</td>\n",
              "      <td>150.0</td>\n",
              "      <td>626.59</td>\n",
              "      <td>51.40</td>\n",
              "      <td>2007</td>\n",
              "    </tr>\n",
              "  </tbody>\n",
              "</table>\n",
              "</div>\n",
              "    <div class=\"colab-df-buttons\">\n",
              "\n",
              "  <div class=\"colab-df-container\">\n",
              "    <button class=\"colab-df-convert\" onclick=\"convertToInteractive('df-ee2530eb-081b-4090-be76-c2a819477369')\"\n",
              "            title=\"Convert this dataframe to an interactive table.\"\n",
              "            style=\"display:none;\">\n",
              "\n",
              "  <svg xmlns=\"http://www.w3.org/2000/svg\" height=\"24px\" viewBox=\"0 -960 960 960\">\n",
              "    <path d=\"M120-120v-720h720v720H120Zm60-500h600v-160H180v160Zm220 220h160v-160H400v160Zm0 220h160v-160H400v160ZM180-400h160v-160H180v160Zm440 0h160v-160H620v160ZM180-180h160v-160H180v160Zm440 0h160v-160H620v160Z\"/>\n",
              "  </svg>\n",
              "    </button>\n",
              "\n",
              "  <style>\n",
              "    .colab-df-container {\n",
              "      display:flex;\n",
              "      gap: 12px;\n",
              "    }\n",
              "\n",
              "    .colab-df-convert {\n",
              "      background-color: #E8F0FE;\n",
              "      border: none;\n",
              "      border-radius: 50%;\n",
              "      cursor: pointer;\n",
              "      display: none;\n",
              "      fill: #1967D2;\n",
              "      height: 32px;\n",
              "      padding: 0 0 0 0;\n",
              "      width: 32px;\n",
              "    }\n",
              "\n",
              "    .colab-df-convert:hover {\n",
              "      background-color: #E2EBFA;\n",
              "      box-shadow: 0px 1px 2px rgba(60, 64, 67, 0.3), 0px 1px 3px 1px rgba(60, 64, 67, 0.15);\n",
              "      fill: #174EA6;\n",
              "    }\n",
              "\n",
              "    .colab-df-buttons div {\n",
              "      margin-bottom: 4px;\n",
              "    }\n",
              "\n",
              "    [theme=dark] .colab-df-convert {\n",
              "      background-color: #3B4455;\n",
              "      fill: #D2E3FC;\n",
              "    }\n",
              "\n",
              "    [theme=dark] .colab-df-convert:hover {\n",
              "      background-color: #434B5C;\n",
              "      box-shadow: 0px 1px 3px 1px rgba(0, 0, 0, 0.15);\n",
              "      filter: drop-shadow(0px 1px 2px rgba(0, 0, 0, 0.3));\n",
              "      fill: #FFFFFF;\n",
              "    }\n",
              "  </style>\n",
              "\n",
              "    <script>\n",
              "      const buttonEl =\n",
              "        document.querySelector('#df-ee2530eb-081b-4090-be76-c2a819477369 button.colab-df-convert');\n",
              "      buttonEl.style.display =\n",
              "        google.colab.kernel.accessAllowed ? 'block' : 'none';\n",
              "\n",
              "      async function convertToInteractive(key) {\n",
              "        const element = document.querySelector('#df-ee2530eb-081b-4090-be76-c2a819477369');\n",
              "        const dataTable =\n",
              "          await google.colab.kernel.invokeFunction('convertToInteractive',\n",
              "                                                    [key], {});\n",
              "        if (!dataTable) return;\n",
              "\n",
              "        const docLinkHtml = 'Like what you see? Visit the ' +\n",
              "          '<a target=\"_blank\" href=https://colab.research.google.com/notebooks/data_table.ipynb>data table notebook</a>'\n",
              "          + ' to learn more about interactive tables.';\n",
              "        element.innerHTML = '';\n",
              "        dataTable['output_type'] = 'display_data';\n",
              "        await google.colab.output.renderOutput(dataTable, element);\n",
              "        const docLink = document.createElement('div');\n",
              "        docLink.innerHTML = docLinkHtml;\n",
              "        element.appendChild(docLink);\n",
              "      }\n",
              "    </script>\n",
              "  </div>\n",
              "\n",
              "\n",
              "    <div id=\"df-11724ab1-3513-4b01-97f5-6b9a26b78d2c\">\n",
              "      <button class=\"colab-df-quickchart\" onclick=\"quickchart('df-11724ab1-3513-4b01-97f5-6b9a26b78d2c')\"\n",
              "                title=\"Suggest charts\"\n",
              "                style=\"display:none;\">\n",
              "\n",
              "<svg xmlns=\"http://www.w3.org/2000/svg\" height=\"24px\"viewBox=\"0 0 24 24\"\n",
              "     width=\"24px\">\n",
              "    <g>\n",
              "        <path d=\"M19 3H5c-1.1 0-2 .9-2 2v14c0 1.1.9 2 2 2h14c1.1 0 2-.9 2-2V5c0-1.1-.9-2-2-2zM9 17H7v-7h2v7zm4 0h-2V7h2v10zm4 0h-2v-4h2v4z\"/>\n",
              "    </g>\n",
              "</svg>\n",
              "      </button>\n",
              "\n",
              "<style>\n",
              "  .colab-df-quickchart {\n",
              "      --bg-color: #E8F0FE;\n",
              "      --fill-color: #1967D2;\n",
              "      --hover-bg-color: #E2EBFA;\n",
              "      --hover-fill-color: #174EA6;\n",
              "      --disabled-fill-color: #AAA;\n",
              "      --disabled-bg-color: #DDD;\n",
              "  }\n",
              "\n",
              "  [theme=dark] .colab-df-quickchart {\n",
              "      --bg-color: #3B4455;\n",
              "      --fill-color: #D2E3FC;\n",
              "      --hover-bg-color: #434B5C;\n",
              "      --hover-fill-color: #FFFFFF;\n",
              "      --disabled-bg-color: #3B4455;\n",
              "      --disabled-fill-color: #666;\n",
              "  }\n",
              "\n",
              "  .colab-df-quickchart {\n",
              "    background-color: var(--bg-color);\n",
              "    border: none;\n",
              "    border-radius: 50%;\n",
              "    cursor: pointer;\n",
              "    display: none;\n",
              "    fill: var(--fill-color);\n",
              "    height: 32px;\n",
              "    padding: 0;\n",
              "    width: 32px;\n",
              "  }\n",
              "\n",
              "  .colab-df-quickchart:hover {\n",
              "    background-color: var(--hover-bg-color);\n",
              "    box-shadow: 0 1px 2px rgba(60, 64, 67, 0.3), 0 1px 3px 1px rgba(60, 64, 67, 0.15);\n",
              "    fill: var(--button-hover-fill-color);\n",
              "  }\n",
              "\n",
              "  .colab-df-quickchart-complete:disabled,\n",
              "  .colab-df-quickchart-complete:disabled:hover {\n",
              "    background-color: var(--disabled-bg-color);\n",
              "    fill: var(--disabled-fill-color);\n",
              "    box-shadow: none;\n",
              "  }\n",
              "\n",
              "  .colab-df-spinner {\n",
              "    border: 2px solid var(--fill-color);\n",
              "    border-color: transparent;\n",
              "    border-bottom-color: var(--fill-color);\n",
              "    animation:\n",
              "      spin 1s steps(1) infinite;\n",
              "  }\n",
              "\n",
              "  @keyframes spin {\n",
              "    0% {\n",
              "      border-color: transparent;\n",
              "      border-bottom-color: var(--fill-color);\n",
              "      border-left-color: var(--fill-color);\n",
              "    }\n",
              "    20% {\n",
              "      border-color: transparent;\n",
              "      border-left-color: var(--fill-color);\n",
              "      border-top-color: var(--fill-color);\n",
              "    }\n",
              "    30% {\n",
              "      border-color: transparent;\n",
              "      border-left-color: var(--fill-color);\n",
              "      border-top-color: var(--fill-color);\n",
              "      border-right-color: var(--fill-color);\n",
              "    }\n",
              "    40% {\n",
              "      border-color: transparent;\n",
              "      border-right-color: var(--fill-color);\n",
              "      border-top-color: var(--fill-color);\n",
              "    }\n",
              "    60% {\n",
              "      border-color: transparent;\n",
              "      border-right-color: var(--fill-color);\n",
              "    }\n",
              "    80% {\n",
              "      border-color: transparent;\n",
              "      border-right-color: var(--fill-color);\n",
              "      border-bottom-color: var(--fill-color);\n",
              "    }\n",
              "    90% {\n",
              "      border-color: transparent;\n",
              "      border-bottom-color: var(--fill-color);\n",
              "    }\n",
              "  }\n",
              "</style>\n",
              "\n",
              "      <script>\n",
              "        async function quickchart(key) {\n",
              "          const quickchartButtonEl =\n",
              "            document.querySelector('#' + key + ' button');\n",
              "          quickchartButtonEl.disabled = true;  // To prevent multiple clicks.\n",
              "          quickchartButtonEl.classList.add('colab-df-spinner');\n",
              "          try {\n",
              "            const charts = await google.colab.kernel.invokeFunction(\n",
              "                'suggestCharts', [key], {});\n",
              "          } catch (error) {\n",
              "            console.error('Error during call to suggestCharts:', error);\n",
              "          }\n",
              "          quickchartButtonEl.classList.remove('colab-df-spinner');\n",
              "          quickchartButtonEl.classList.add('colab-df-quickchart-complete');\n",
              "        }\n",
              "        (() => {\n",
              "          let quickchartButtonEl =\n",
              "            document.querySelector('#df-11724ab1-3513-4b01-97f5-6b9a26b78d2c button');\n",
              "          quickchartButtonEl.style.display =\n",
              "            google.colab.kernel.accessAllowed ? 'block' : 'none';\n",
              "        })();\n",
              "      </script>\n",
              "    </div>\n",
              "\n",
              "    </div>\n",
              "  </div>\n"
            ],
            "application/vnd.google.colaboratory.intrinsic+json": {
              "type": "dataframe",
              "variable_name": "movie_data",
              "summary": "{\n  \"name\": \"movie_data\",\n  \"rows\": 970,\n  \"fields\": [\n    {\n      \"column\": \"Movie\",\n      \"properties\": {\n        \"dtype\": \"string\",\n        \"num_unique_values\": 968,\n        \"samples\": [\n          \"Moneyball\",\n          \"A Christmas Carol\",\n          \"Clash of the Titans\"\n        ],\n        \"semantic_type\": \"\",\n        \"description\": \"\"\n      }\n    },\n    {\n      \"column\": \"LeadStudio\",\n      \"properties\": {\n        \"dtype\": \"category\",\n        \"num_unique_values\": 59,\n        \"samples\": [\n          \"Sony\",\n          \"Fox\",\n          \"Legendary Pictures\"\n        ],\n        \"semantic_type\": \"\",\n        \"description\": \"\"\n      }\n    },\n    {\n      \"column\": \"RottenTomatoes\",\n      \"properties\": {\n        \"dtype\": \"number\",\n        \"std\": 26.82126753870761,\n        \"min\": 0.0,\n        \"max\": 99.0,\n        \"num_unique_values\": 100,\n        \"samples\": [\n          22.0,\n          49.0,\n          51.0\n        ],\n        \"semantic_type\": \"\",\n        \"description\": \"\"\n      }\n    },\n    {\n      \"column\": \"AudienceScore\",\n      \"properties\": {\n        \"dtype\": \"number\",\n        \"std\": 16.60245729510314,\n        \"min\": 19.0,\n        \"max\": 96.0,\n        \"num_unique_values\": 73,\n        \"samples\": [\n          82.0,\n          60.0,\n          66.0\n        ],\n        \"semantic_type\": \"\",\n        \"description\": \"\"\n      }\n    },\n    {\n      \"column\": \"Story\",\n      \"properties\": {\n        \"dtype\": \"category\",\n        \"num_unique_values\": 42,\n        \"samples\": [\n          \"fish out of water\",\n          \"Underdog\",\n          \"Transformation\"\n        ],\n        \"semantic_type\": \"\",\n        \"description\": \"\"\n      }\n    },\n    {\n      \"column\": \"Genre\",\n      \"properties\": {\n        \"dtype\": \"category\",\n        \"num_unique_values\": 14,\n        \"samples\": [\n          \"Romance\",\n          \"Documentary\",\n          \"Action\"\n        ],\n        \"semantic_type\": \"\",\n        \"description\": \"\"\n      }\n    },\n    {\n      \"column\": \"TheatersOpenWeek\",\n      \"properties\": {\n        \"dtype\": \"number\",\n        \"std\": 1164.2233563731022,\n        \"min\": 1.0,\n        \"max\": 4468.0,\n        \"num_unique_values\": 789,\n        \"samples\": [\n          2904.0,\n          2011.0,\n          4234.0\n        ],\n        \"semantic_type\": \"\",\n        \"description\": \"\"\n      }\n    },\n    {\n      \"column\": \"OpeningWeekend\",\n      \"properties\": {\n        \"dtype\": \"number\",\n        \"std\": 25.338689179111565,\n        \"min\": 0.01,\n        \"max\": 207.44,\n        \"num_unique_values\": 721,\n        \"samples\": [\n          20.8,\n          24.64,\n          3.4\n        ],\n        \"semantic_type\": \"\",\n        \"description\": \"\"\n      }\n    },\n    {\n      \"column\": \"BOAvgOpenWeekend\",\n      \"properties\": {\n        \"dtype\": \"number\",\n        \"std\": 10645.135564988996,\n        \"min\": 28.0,\n        \"max\": 147262.0,\n        \"num_unique_values\": 912,\n        \"samples\": [\n          6968.0,\n          83430.0,\n          2744.0\n        ],\n        \"semantic_type\": \"\",\n        \"description\": \"\"\n      }\n    },\n    {\n      \"column\": \"DomesticGross\",\n      \"properties\": {\n        \"dtype\": \"number\",\n        \"std\": 80.40996860959642,\n        \"min\": 0.06,\n        \"max\": 760.5,\n        \"num_unique_values\": 935,\n        \"samples\": [\n          29.58,\n          25.04,\n          13.85\n        ],\n        \"semantic_type\": \"\",\n        \"description\": \"\"\n      }\n    },\n    {\n      \"column\": \"ForeignGross\",\n      \"properties\": {\n        \"dtype\": \"number\",\n        \"std\": 155.9876962151833,\n        \"min\": 0.0,\n        \"max\": 2021.0,\n        \"num_unique_values\": 842,\n        \"samples\": [\n          0.58,\n          10.72,\n          44.457\n        ],\n        \"semantic_type\": \"\",\n        \"description\": \"\"\n      }\n    },\n    {\n      \"column\": \"WorldGross\",\n      \"properties\": {\n        \"dtype\": \"number\",\n        \"std\": 227.7443795785872,\n        \"min\": 0.1,\n        \"max\": 2781.5,\n        \"num_unique_values\": 899,\n        \"samples\": [\n          36.08,\n          116.98,\n          305.27\n        ],\n        \"semantic_type\": \"\",\n        \"description\": \"\"\n      }\n    },\n    {\n      \"column\": \"Budget\",\n      \"properties\": {\n        \"dtype\": \"number\",\n        \"std\": 53.75591408086347,\n        \"min\": 0.0,\n        \"max\": 300.0,\n        \"num_unique_values\": 151,\n        \"samples\": [\n          16.0,\n          60.0,\n          1.7\n        ],\n        \"semantic_type\": \"\",\n        \"description\": \"\"\n      }\n    },\n    {\n      \"column\": \"Profitability\",\n      \"properties\": {\n        \"dtype\": \"number\",\n        \"std\": 631.6660116017324,\n        \"min\": 2.3,\n        \"max\": 10175.85,\n        \"num_unique_values\": 883,\n        \"samples\": [\n          145.86,\n          175.33,\n          309.11\n        ],\n        \"semantic_type\": \"\",\n        \"description\": \"\"\n      }\n    },\n    {\n      \"column\": \"OpenProfit\",\n      \"properties\": {\n        \"dtype\": \"number\",\n        \"std\": 159.7132178426226,\n        \"min\": 0.16,\n        \"max\": 3373.0,\n        \"num_unique_values\": 810,\n        \"samples\": [\n          30.8,\n          2.31,\n          32.49\n        ],\n        \"semantic_type\": \"\",\n        \"description\": \"\"\n      }\n    },\n    {\n      \"column\": \"Year\",\n      \"properties\": {\n        \"dtype\": \"number\",\n        \"std\": 1,\n        \"min\": 2007,\n        \"max\": 2013,\n        \"num_unique_values\": 7,\n        \"samples\": [\n          2007,\n          2008,\n          2012\n        ],\n        \"semantic_type\": \"\",\n        \"description\": \"\"\n      }\n    }\n  ]\n}"
            }
          },
          "metadata": {},
          "execution_count": 1
        }
      ],
      "source": [
        "#import the necessary library\n",
        "\n",
        "import numpy as np\n",
        "import pandas as pd\n",
        "import difflib\n",
        "from sklearn.feature_extraction.text import TfidfVectorizer\n",
        "from sklearn.metrics.pairwise import cosine_similarity\n",
        "\n",
        "# Load datasets called HollywoodMovies dataset\n",
        "movie_data = pd.read_csv('HollywoodMovies.csv')\n",
        "movie_data.head()"
      ]
    },
    {
      "cell_type": "code",
      "source": [
        "# Add an index column\n",
        "movie_data.reset_index(inplace=True)\n",
        "movie_data.rename(columns={'index': 'movie_index'}, inplace=True)\n",
        "\n",
        "# Inspect the dataset to verify the new index column\n",
        "print(movie_data.head())"
      ],
      "metadata": {
        "colab": {
          "base_uri": "https://localhost:8080/"
        },
        "id": "KQ8sIXV1pEUX",
        "outputId": "2d8fc11e-8aa2-45f8-ce81-08dfd2d8a764"
      },
      "execution_count": null,
      "outputs": [
        {
          "output_type": "stream",
          "name": "stdout",
          "text": [
            "   movie_index                                      Movie   LeadStudio  \\\n",
            "0            0                               Spider-Man 3         Sony   \n",
            "1            1                            Shrek the Third    Paramount   \n",
            "2            2                               Transformers    Paramount   \n",
            "3            3   Pirates of the Caribbean: At World's End       Disney   \n",
            "4            4  Harry Potter and the Order of the Phoenix  Warner Bros   \n",
            "\n",
            "   RottenTomatoes  AudienceScore          Story      Genre  TheatersOpenWeek  \\\n",
            "0            61.0           54.0  Metamorphosis     Action            4252.0   \n",
            "1            42.0           57.0          Quest  Animation            4122.0   \n",
            "2            57.0           89.0  Monster Force     Action            4011.0   \n",
            "3            45.0           74.0         Rescue     Action            4362.0   \n",
            "4            78.0           82.0          Quest  Adventure            4285.0   \n",
            "\n",
            "   OpeningWeekend  BOAvgOpenWeekend  DomesticGross  ForeignGross  WorldGross  \\\n",
            "0           151.1           35540.0         336.53        554.34      890.87   \n",
            "1           121.6           29507.0         322.72        476.24      798.96   \n",
            "2            70.5           17577.0         319.25        390.46      709.71   \n",
            "3           114.7           26302.0         309.42        654.00      963.42   \n",
            "4            77.1           17998.0         292.00        647.88      939.89   \n",
            "\n",
            "   Budget  Profitability  OpenProfit  Year  \n",
            "0   258.0         345.30       58.57  2007  \n",
            "1   160.0         499.35       76.00  2007  \n",
            "2   150.0         473.14       47.00  2007  \n",
            "3   300.0         321.14       38.23  2007  \n",
            "4   150.0         626.59       51.40  2007  \n"
          ]
        }
      ]
    },
    {
      "cell_type": "code",
      "source": [
        "#Select the requied columns in the dataset\n",
        "selected_features =['Movie','LeadStudio','Story','Genre','Year']\n",
        "\n",
        "# replacing the null valuess with null string\n",
        "\n",
        "for feature in selected_features:\n",
        "  movie_data[feature] = movie_data[feature].fillna('')\n",
        "\n",
        "# Convert 'Year' column to string type\n",
        "movie_data['Year'] = movie_data['Year'].astype(str)\n",
        "\n",
        "combined_features = movie_data['Movie']+' '+movie_data['LeadStudio']+' '+movie_data['Story']+' '+movie_data['Genre']+' '+movie_data['Year']"
      ],
      "metadata": {
        "id": "xUvxmqqqpJrf"
      },
      "execution_count": null,
      "outputs": []
    },
    {
      "cell_type": "code",
      "source": [
        "print(combined_features)"
      ],
      "metadata": {
        "colab": {
          "base_uri": "https://localhost:8080/"
        },
        "id": "12U9awGlqBmT",
        "outputId": "2b0def4b-3520-4b6a-d1c3-2bb306768916"
      },
      "execution_count": null,
      "outputs": [
        {
          "output_type": "stream",
          "name": "stdout",
          "text": [
            "0            Spider-Man 3 Sony Metamorphosis Action 2007\n",
            "1         Shrek the Third Paramount Quest Animation 2007\n",
            "2       Transformers Paramount Monster Force Action 2007\n",
            "3      Pirates of the Caribbean: At World's End Disne...\n",
            "4      Harry Potter and the Order of the Phoenix Warn...\n",
            "                             ...                        \n",
            "965                               The Canyons IFC   2013\n",
            "966                              The Call TriStar   2013\n",
            "967    The English Teacher Cinedigm Entertainment   2013\n",
            "968                 John Dies at the End Magnolia   2013\n",
            "969                  Lovelace Radius-TWC  Biography 2013\n",
            "Length: 970, dtype: object\n"
          ]
        }
      ]
    },
    {
      "cell_type": "code",
      "source": [
        "vectorizer = TfidfVectorizer()\n",
        "feature_vectors = vectorizer.fit_transform(combined_features)"
      ],
      "metadata": {
        "id": "LBAkQ1_bqHSL"
      },
      "execution_count": null,
      "outputs": []
    },
    {
      "cell_type": "code",
      "source": [
        "# getting the similarity scores using cosine similarity\n",
        "\n",
        "similarity = cosine_similarity(feature_vectors)\n",
        "print(similarity)"
      ],
      "metadata": {
        "colab": {
          "base_uri": "https://localhost:8080/"
        },
        "id": "wvsFqALPqLAB",
        "outputId": "7b12bc0c-b81a-44dd-b77e-3db4a5e77ce4"
      },
      "execution_count": null,
      "outputs": [
        {
          "output_type": "stream",
          "name": "stdout",
          "text": [
            "[[1.         0.07870827 0.16383454 ... 0.         0.         0.        ]\n",
            " [0.07870827 1.         0.18616693 ... 0.0282509  0.02648703 0.        ]\n",
            " [0.16383454 0.18616693 1.         ... 0.         0.         0.        ]\n",
            " ...\n",
            " [0.         0.0282509  0.         ... 1.         0.06468246 0.04208949]\n",
            " [0.         0.02648703 0.         ... 0.06468246 1.         0.03946159]\n",
            " [0.         0.         0.         ... 0.04208949 0.03946159 1.        ]]\n"
          ]
        }
      ]
    },
    {
      "cell_type": "code",
      "source": [
        "# creating a list with all the movie names given in the dataset\n",
        "\n",
        "list_of_all_titles = movie_data['Movie'].tolist()\n",
        "print(list_of_all_titles)"
      ],
      "metadata": {
        "colab": {
          "base_uri": "https://localhost:8080/"
        },
        "id": "VPXPdmiqqPHG",
        "outputId": "61d27b48-1299-4e2a-de3b-a17d16e0fa9b"
      },
      "execution_count": null,
      "outputs": [
        {
          "output_type": "stream",
          "name": "stdout",
          "text": [
            "['Spider-Man 3', 'Shrek the Third', 'Transformers', \"Pirates of the Caribbean: At World's End\", 'Harry Potter and the Order of the Phoenix', 'I Am Legend', 'The Bourne Ultimatum', 'National Treasure: Book of Secrets', 'Alvin and the Chipmunks', '300', 'Ratatouille', 'The Simpsons Movie', 'Wild Hogs', 'Knocked Up', 'Juno', 'Rush Hour 3', 'Live Free or Die Hard', 'Fantastic Four: Rise of the Silver Surfer', 'American Gangster', 'Enchanted', 'Bee Movie', 'Superbad', 'I Now Pronounce You Chuck and Larry', 'Hairspray', 'Blades of Glory', \"Ocean's 13\", 'Ghost Rider', 'Evan Almighty', 'Meet the Robinsons', 'Norbit', 'The Bucket List', 'The Game Plan', 'Beowulf', 'Disturbia', 'No Country for Old Men', 'The Golden Compass', \"Charlie Wilson's War\", 'Saw IV', 'Stomp the Yard', \"Surf's Up\", 'Halloween', \"Tyler Perry's Why Did I get Married\", 'TMNT', 'P.S. I Love You', '3:10 to Yuma', 'Sweeney Todd: The Demon Barber of Fleet Street', 'Music and Lyrics', 'Michael Clayton', 'Premonition', 'The Kingdom', 'Shooter', 'License to Wed', 'No Reservations', 'Alien vs. Predator -- Requiem', 'There Will Be Blood', 'Epic Movie', 'Hitman', '30 Days of Night', 'Stardust', 'The Brave One', 'The Heartbreak Kid', \"Smokin' Aces\", 'Good Luck Chuck', 'Zodiac', \"Mr. Magorium's Wonder Emporium\", 'We Own the Night', 'Mr. Brooks', 'The Nanny Diaries', 'Nancy Drew', 'The Mist', 'The Reaping', 'Grindhouse', 'Sicko', 'Across the Universe', 'The Hills Have Eyes 2', 'Vacancy', 'Waitress', 'Into the Wild', 'Walk Hard: The Dewey Cox Story', 'Next', 'Hostel: Part II', 'The Kite Runner', \"Happily N'Ever After\", 'The Invasion', 'Lions for Lambs', 'Daddy Day Camp', \"Shoot 'Em Up\", 'The Darjeeling Limited', 'In the Land of Women', 'Dragon Wars (aka D-War)', 'Pathfinder: Legend of the Ghost Warrior', 'The Dark Knight', 'Iron Man', 'Indiana Jones and the Kingdom of the Crystal Skull', 'Hancock', 'WALL-E', 'Kung Fu Panda', 'Madagascar: Escape 2 Africa', 'Twilight', 'Quantum of Solace', \"Dr. Seuss' Horton Hears a Who!\", 'Sex and the City', 'Gran Torino', 'Mamma Mia!', 'The Chronicles of Narnia: Prince Caspian', 'Slumdog Millionaire', 'The Incredible Hulk', 'Wanted', 'Get Smart', 'Four Christmases', 'Tropic Thunder', 'Bedtime Stories', 'Bolt', 'Marley and Me', 'The Mummy: Tomb of the Dragon Emperor', 'Journey to the Center of the Earth', 'Eagle Eye', 'Step Brothers', \"You Don't Mess with the Zohan\", 'Yes Man', '10,000 B.C.', 'Beverly Hills Chihuahua', 'High School Musical 3: Senior Year', 'Pineapple Express', 'Valkyrie', '21', 'What Happens in Vegas', 'Jumper', 'Cloverfield', 'The Curious Case of Benjamin Button', '27 Dresses', 'Hellboy II: The Golden Army', 'The Day the Earth Stood Still', 'Vantage Point', 'The Spiderwick Chronicles', \"Fool's Gold\", 'Role Models', 'The Happening', 'Forgetting Sarah Marshall', 'Burn After Reading', 'Baby Mama', 'Seven Pounds', 'Step Up 2: The Streets', 'Saw V', 'The Strangers', 'The Forbidden Kingdom', 'The Tale of Despereaux', 'The House Bunny', \"Nim's Island\", 'Australia', 'Made of Honor', 'College Road Trip', 'The Sisterhood of the Traveling Pants 2', 'Speed Racer', 'Prom Night', 'Rambo', 'Welcome Home, Roscoe Jenkins', \"Tyler Perry's Meet the Browns\", 'Nights in Rodanthe', 'Max Payne', 'Righteous Kill', 'Lakeview Terrace', 'Body of Lies', 'Meet the Spartans', 'Harold and Kumar Escape from Guantanamo Bay', 'First Sunday', 'The Secret Life of Bees', \"Tyler Perry's The Family That Preys\", 'Death Race', 'Changeling', 'Star Wars: The Clone Wars', 'Semi-Pro', 'Fireproof', 'Drillbit Taylor', 'The Love Guru', 'Definitely, Maybe', 'Milk', 'Transporter 3', 'Quarantine', \"Nick and Norah's Infinite Playlist\", 'The Eye', 'Zack and Miri Make a Porno', 'Leatherheads', 'Mirrors', 'Space Chimps', 'The Bank Job', 'Untraceable', 'The Women', 'One Missed Call', 'The Other Boleyn Girl', 'Street Kings', 'Shutter', 'Superhero Movie', 'W.', 'Never Back Down', 'Traitor', 'Vicky Cristina Barcelona', 'Babylon A.D.', 'The X-Files: I Want to Believe', 'Mad Money', 'Appaloosa', 'Igor', \"My Best Friend's Girl\", 'Doubt', 'The Spirit', 'Kit Kittredge: An American Girl', 'The Ruins', '88 Minutes', 'Swing Vote', 'Pride & Glory', 'Bangkok Dangerous', 'Disaster Movie', 'The Duchess', 'The Haunting of Molly Hartley', 'Ghost Town', 'Religulous', 'Rachel Getting Married', \"The Pirates Who Don't Do Anything\", 'Under the Same Moon', 'Miss Pettigrew Lives for a Day', 'Soul Men', 'Meet Dave', 'The Longshots', 'Be Kind, Rewind', 'Doomsday', 'Stop-Loss', 'Penelope', 'The Express', 'Smart People', 'The Visitor', 'The Boy in the Striped Pyjamas', 'Sex Drive', 'Cadillac Records', 'Punisher: War Zone', 'Miracle at St. Anna', 'City of Ember', 'In Bruges', 'Expelled: No Intelligence Allowed', 'Over Her Dead Body', 'Avatar', 'Transformers: Revenge of the Fallen', 'Harry Potter and the Half-Blood Prince', 'The Twilight Saga: New Moon', 'Up', 'The Hangover', 'Star Trek', 'The Blind Side', 'Alvin and the Chipmunks: The Squeakquel', 'Sherlock Holmes', 'Monsters Vs. Aliens', 'Ice Age: Dawn of the Dinosaurs', 'X-Men Origins: Wolverine', 'Night at the Museum: Battle of the Smithsonian', '2012', 'The Proposal', 'Fast and Furious', 'G.I. Joe: The Rise of Cobra', 'Paul Blart: Mall Cop', 'Taken', 'A Christmas Carol', 'Angels & Demons', 'Terminator Salvation', 'Cloudy with a Chance of Meatballs', 'Inglourious Basterds', 'G-Force', 'District 9', \"It's Complicated\", 'Couples Retreat', 'Paranormal Activity', 'Watchmen', 'The Princess and the Frog', 'Public Enemies', 'Julie & Julia', \"He's Just Not That Into You\", 'The Ugly Truth', 'Up in the Air', 'Knowing', 'Hannah Montana: The Movie', 'Where the Wild Things Are', 'Zombieland', 'Coraline', 'Law Abiding Citizen', 'Hotel for Dogs', \"Michael Jackson's This Is It\", 'I Love You, Man', 'Obsessed', 'Race to Witch Mountain', 'The Final Destination', 'The Taking of Pelham 1 2 3', 'Friday the 13th', '17 Again', \"The Time Traveler's Wife\", 'Bruno', 'Bride Wars', 'The Haunting in Connecticut', 'Ghosts of Girlfriends Past', 'Funny People', 'My Bloody Valentine 3-D', 'Old Dogs', 'Land of the Lost', \"My Sister's Keeper\", 'Underworld: Rise of the Lycans', 'Confessions of a Shopaholic', 'The Lovely Bones', 'Year One', 'The Unborn', 'Planet 51', 'Drag Me to Hell', 'Orphan', 'Duplicity', 'Surrogates', 'Ninja Assassin', 'Invictus', 'State of Play', 'Notorious', 'The Pink Panther 2', 'All About Steve', 'Halloween II', 'The Informant!', 'The Men Who Stare at Goats', '(500) Days of Summer', 'Push', '9', 'The Soloist', 'Did You Hear About the Morgans?', 'The Stepfather', 'The Uninvited', 'Brothers', 'Saw VI', 'Dance Flick', 'The Fourth Kind', 'The International', 'Aliens in the Attic', 'Observe and Report', 'Love Happens', 'Fame', 'Fantastic Mr. Fox', 'Gamer', 'Nine', 'Astro Boy', 'The Invention of Lying', 'Inkheart', 'Fired Up!', 'The Hurt Locker', \"Jennifer's Body\", 'Imagine That', 'Adventureland', 'Armored', 'A Perfect Getaway', 'The Box', 'I Love You Beth Cooper', 'Amelia', \"Cirque du Freak: The Vampire's Assistant\", 'Crank: High Voltage', 'Whip It', 'An Education', '12 Rounds', 'Sunshine Cleaning', 'Sorority Row', 'Extract', 'Not Easily Broken', 'Pandorum', 'Whiteout', 'Next Day Air', 'Away We Go', 'Dragonball Evolution', 'A Serious Man', \"Everybody's Fine\", 'Street Fighter: The Legend of Chun-Li', 'My Life in Ruins', 'Pirate Radio (The Boat that Rocked, UK)', 'The Road', 'Taking Woodstock', 'Post Grad', 'Whatever Works', 'Bandslam', '127 Hours', 'A Nightmare on Elm Street', 'Alice in Wonderland', 'All About Steve', 'Alpha and Omega', 'Black Swan', \"Brooklyn's Finest\", 'Buried', 'Burlesque', 'Case 39', 'Cats & Dogs: The Revenge of Kitty Galore', 'Charlie St. Cloud', 'City Island', 'Clash of the Titans', 'Conviction', 'Cop Out', 'Country Strong', 'Cyrus', 'Date Night', 'Daybreakers', 'Dear John', 'Death at a Funeral', 'Despicable Me', 'Devil', 'Diary of a Wimpy Kid', 'Dinner for Schmucks', 'Due Date', 'Easy A', 'Eat Pray Love', 'Edge of Darkness', 'Extraordinary Measures', 'Faster', 'For Colored Girls', 'From Paris with Love', 'Furry Vengeance', 'Get Him to the Greek', 'Going the Distance', 'Green Zone', 'Greenberg', 'Grown Ups', \"Gulliver's Travels\", 'Harry Potter and the Deathly Hallows Part 1', 'Hot Tub Time Machine', 'How to Train Your Dragon', 'I Love You Phillip Morris', 'Inception', 'Iron Man 2', 'Jackass 3-D', 'Jonah Hex', 'Just Wright', 'Kick-Ass', 'Killers', 'Knight and Day', 'Leap Year', \"Legend of the Guardians: The Owls of Ga'Hoole\", 'Legion', 'Letters to Juliet', 'Life as We Know It', 'Little Fockers', 'Love & Other Drugs', 'MacGruber', 'Machete', 'Marmaduke', 'Megamind', 'Morning Glory', 'My Soul to Take', 'Nanny McPhee Returns', 'Never Let Me Go', 'Our Family Wedding', 'Paranormal Activity 2', 'Percy Jackson & the Olympians: The Lightning Thief', 'Piranha 3-D', 'Please Give', 'Predators', 'Prince of Persia: The Sands of Time', 'Red', 'Remember Me', 'Repo Men', 'Resident Evil: Afterlife', 'Robin Hood', 'Salt', 'Saw 3-D', 'Scott Pilgrim vs. the World', 'Sex and the City 2', \"She's Out of My League\", 'Shrek Forever After', 'Shutter Island', 'Skyline', 'Solitary Man', 'Step Up 3D', 'Stone', 'Takers', 'Tangled', 'The A-Team', 'The American', 'The Back-up Plan', 'The Book of Eli', 'The Bounty Hunter', 'The Chronicles of Narnia: The Voyage of the Dawn Treader', 'The Crazies', 'The Expendables', 'The Fighter', 'The Ghost Writer', 'The Joneses', 'The Karate Kid', 'The Kids Are All Right', \"The King's Speech\", 'The Last Airbender', 'The Last Exorcism', 'The Last Song', 'The Losers', 'The Next Three Days', 'The Other Guys', 'The Runaways', 'The Social Network', \"The Sorcerer's Apprentice\", 'The Spy Next Door', 'The Switch', 'The Tourist', 'The Town', 'The Twilight Saga: Eclipse', 'The Wolfman', 'Tooth Fairy', 'Toy Story 3', 'Tron: Legacy', 'True Grit', 'Unstoppable', \"Valentine's Day\", 'Vampires Suck', 'Wall Street: Money Never Sleeps', 'When in Rome', 'Why Did I Get Married Too?', 'Yogi Bear', 'You Again', 'You Will Meet a Tall Dark Stranger', 'Youth in Revolt', '30 Minutes or Less', '50/50', 'A Dangerous Method', 'A Very Harold and Kumar Christmas', 'Abduction', 'Anonymous', 'Another Earth', 'Apollo 18', 'Arthur', 'Arthur Christmas', 'Average', 'Bad Teacher', 'Battle: Los Angeles', 'Beastly', 'Beginners', 'Bridesmaids', 'Captain America: The First Avenger', 'Cars 2', 'Cedar Rapids', 'Colombiana', 'Conan the Barbarian', 'Contagion', 'Cowboys and Aliens', 'Crazy, Stupid, Love', 'Diary of a Wimpy Kid 2: Rodrick Rules', 'Dolphin Tale', \"Don't Be Afraid Of The Dark\", 'Dream House', 'Drive', 'Drive Angry', 'Dylan Dog: Dead of Night', 'Everything Must Go', 'Extremely Loud and Incredibly Close', 'Fast Five', 'Final Destination 5', 'Footloose', 'Friends With Benefits', 'Fright Night', 'Gnomeo and Juliet', 'Green Lantern', 'Hall Pass', 'Hanna', 'Happy Feet 2', 'Harry Potter and the Deathly Hallows Part 2', 'Hop', 'Horrible Bosses', 'Hugo', 'I Am Number Four', 'Immortals', 'In Time', 'Insidious', 'J.Edgar', 'Jack and Jill', 'Johnny English Reborn', 'Just Go With It', 'Killer Elite', 'Kung Fu Panda 2', 'Larry Crowne', 'Limitless', 'Machine Gun Preacher', 'Margin Call', 'Mars Needs Moms', 'Midnight in Paris', 'Mission Impossible 4', 'Moneyball', 'Monte Carlo', \"Mr. Popper's Penguins\", 'My Week with Marilyn', \"New Year's Eve\", 'No Strings Attached', 'One Day', 'Our Idiot Brother', 'Paranormal Activity 3', 'Paul', 'Pirates of the Caribbean:On Stranger Tides', 'Priest', 'Puss In Boots', 'Rango', 'Real Steel', 'Red Riding Hood', 'Red State', 'Rio', 'Rise of the Planet of the Apes', 'Sanctum', 'Scream 4', 'Season Of The Witch', 'Shame', 'Shark Night 3D', 'Sherlock Holmes 2', 'Something Borrowed', 'Soul Surfer', 'Source Code', 'Spy Kids: All The Time in the World', 'Sucker Punch', 'Super 8', 'Take Me Home Tonight', 'Take Shelter', 'The Adjustment Bureau', 'The Adventures of Tintin', 'The Artist', 'The Beaver', 'The Big Year', 'The Change Up', 'The Company Men', 'The Conspirator', 'The Debt', 'The Descendants', 'The Dilemma', 'The Eagle', 'The Girl With The Dragon Tattoo', 'The Green Hornet', 'The Hangover Part II', 'The Help', 'The Ides of March', 'The Iron Lady', 'The Lincoln Lawyer', 'The Mechanic', 'The Muppets', 'The Rite', 'The Roommate', 'The Rum Diary', 'The Sitter', 'The Smurfs', 'The Thing', 'The Three Musketeers', 'The Tree Of Life', 'Thor', 'Tinker Tailor Soldier Spy', 'Tower Heist', 'Transformers: Dark of the Moon', 'Twilight: Breaking Dawn', 'Unknown', 'War Horse', 'Warrior', 'Water For Elephants', 'We Bought a Zoo', \"What's Your Number\", 'Winnie The Pooh', 'X-Men: First Class', 'Your Highness', 'Zookeeper', '21 Jump Street', 'A Late Quartet', 'A Royal Affair', 'Abraham Lincoln: Vampire Hunter', 'Agneepath', 'Albert Nobbs', 'American Reunion', 'Amour', 'Anna Karenina', 'Arbitrage', 'Argo', 'Atlas Shrugged: Part II', 'Barfi!', 'Battleship', 'Beasts of the Southern Wild', 'Big Miracle', 'Brave', 'Bully (PG-13)', 'Casa De Mi Padre', 'Celeste and Jesse Forever', 'Chasing Mavericks', 'Chernobyl Diaries', 'Chronicle (2012)', 'Cloud Atlas', 'Contraband', 'Crooked Arrows', 'Dabangg 2', 'Dark Shadows', 'Diary of a Wimpy Kid: Dog Days', 'Django Unchained', \"Dr. Seuss' The Lorax\", 'Dredd', 'Ek Tha Tiger', 'End of Watch', 'English Vinglish', 'Farewell My Queen', 'Flight', 'Footnote', 'For Greater Glory', 'Frankenweenie', 'Friends with Kids', 'Ghost Rider: Spirit of Vengeance', 'Girl in Progress', 'Goon', 'Haywire', 'Hitchcock', 'Hope Springs', 'Hotel Transylvania', 'House at the End of The Street', 'Housefull 2', 'Hyde Park on Hudson', 'Hysteria', 'Ice Age: Continental Drift', 'Jab Tak Hai Jaan', 'Jack Reacher', 'Jeff, Who Lives at Home', 'Jiro Dreams of Sushi', 'John Carter', 'Journey 2: The Mysterious Island', 'Katy Perry: Part of Me', 'Kid With a Bike', 'Killer Joe', 'Killing Them Softly', 'Last Ounce of Courage', 'Lawless', 'Les Miserables (2012)', 'Life of Pi', 'Lincoln', 'Looper', \"Madagascar 3: Europe's Most Wanted\", 'Magic Mike', 'Man on a Ledge', 'Marley', \"Marvel's The Avengers\", 'MIB 3', 'Mirror Mirror', 'Monsieur Lazhar (U.S.-only)', 'Moonrise Kingdom', 'Nitro Circus the Movie 3D', 'October Baby (2012)', 'Paranormal Activity 4', 'ParaNorman', 'Parental Guidance', 'Pitch Perfect', 'Premium Rush', 'Prometheus', 'Promised Land (2012)', 'Raiders of the Lost Ark (IMAX)', 'Red Dawn (2012)', 'Red Tails', 'Resident Evil: Retribution', 'Rise of the Guardians', 'Robot & Frank', 'Rock of Ages', 'Ruby Sparks', 'Rust and Bone', 'Safe (2012)', 'Safe House', 'Safety Not Guaranteed', 'Salmon Fishing in the Yemen', 'Samsara', 'Savages (2012)', 'Searching for Sugar Man', 'Seeking a Friend for the End of the World', 'Seven Psychopaths', 'Silver Linings Playbook', \"Singin' In the Rain (2012 re-release)\", 'Sinister', 'Skyfall', 'Sleepwalk with Me', 'Snow White and the Huntsman', 'Sparkle (2012)', 'Step Up Revolution', 'Taken 2', 'Talaash', 'Ted', \"That's My Boy\", 'The Amazing Spider-Man', 'The Apparition', 'The Best Exotic Marigold Hotel', 'The Bourne Legacy', 'The Cabin in the Woods', 'The Campaign', 'The Cold Light of Day', 'The Collection', 'The Dark Knight Rises', 'The Devil Inside', 'The Dictator', 'The Expendables 2', 'The Five-Year Engagement', 'The Grey', 'The Guilt Trip', 'The Hobbit: An Unexpected Journey', 'The Hunger Games', 'The Impossible', 'The Lucky One', 'The Master', 'The Perks of Being a Wallflower', 'The Pirates! Band of Misfits', 'The Possession', 'The Queen of Versailles', 'The Raid: Redemption', 'The Sessions', 'The Three Stooges', 'The Twilight Saga: Breaking Dawn Part 2', 'The Vow', 'The Watch', 'The Woman in Black', 'This Is 40', 'Total Recall (2012)', 'Underworld Awakening', \"What to Expect When You're Expecting\", \"Won't Back Down\", 'Wrath of the Titans', 'Wreck-It Ralph', \"Your Sister's Sister\", 'Zero Dark Thirty', 'About Time', 'The Fifth Estate', 'Parker', 'The To-Do List', 'Grown Ups 2', 'After Earth', 'Captain Phillips', 'Escape Plan', 'Prisoners', 'Stoker', 'Walking with Dinosaurs', 'Love is All You Need', 'The Kings of Summer', 'Iron Man 3', 'Despicable Me 2', 'THG: Catching Fire', 'The Desolation of Smaug', 'Frozen', 'Fast & Furious 6', 'Monsters University', 'Gravity', 'Man of Steel', 'Thor: The Dark World', 'The Croods', 'World War Z', 'Oz The Great & Powerful', 'Star Trek Into Darkness', 'The Wolverine', 'Pacific Rim', 'G.I. Joe: Retaliation', 'The Hangover Part III', 'Now You See Me', 'The Great Gatsby', 'The Smurfs 2', 'The Conjuring', 'A Good Day to Die Hard', 'Oblivion', 'Elysium', 'Turbo', \"We're the Millers\", 'Epic', 'The Lone Ranger', 'Cloudy with a Chance of Meatballs 2', 'The Heat', 'Hansel & Gretel', 'Planes', 'White House Down', 'Percy Jackson: Sea of Monsters', 'Jack the Giant Slayer', 'The Wolf of Wall Street', 'Identity Thief', 'The Secret Life of Walter Mitty', \"Lee Daniels' The Butler\", 'Anchorman 2', 'American Hustle', 'Insidious Chapter 2', 'Olympus Has Fallen', 'Bad Grandpa', 'Mama', 'Red 2', '2 Guns', '12 years a slave', 'This is the End', '47 Ronin', 'Last Vegas', 'Warm Bodies', \"Ender's Game\", 'Gangster Squad', 'Riddick', 'Evil Dead', '42', 'Blue Jasmine', 'Lone Survivor', 'The Internship', 'Saving Mr. Banks', 'Free Birds', 'The Mortal Instruments: City of Bones', 'Rush', 'The Purge', 'Pain and Gain', 'Philomena', 'Carrie', 'Scary Movie 5', 'R.I.P.D.', 'The Best Man Holiday', 'Safe Haven', 'The Counselor', 'The Call', 'Side Effects', 'Runner Runner', 'Beautiful Creatures', 'A Haunted House', 'Kick-Ass 2', 'Quartet', 'The Last Stand', 'The Host', \"The World's End\", '21 and Over', 'Snitch', 'Jobs', 'The Place Beyond the Pines', 'August: Osage County', 'Spring Breakers', 'Homefront', 'Delivery Man', 'Dallas Buyers Club', 'Don Jon', 'Her', 'Movie 43', 'Grudge Match', 'Mandela: Long Walk to Freedom', 'Dark Skies', 'Enough Said', 'Trance', 'Inside Llewyn Davis', 'The Way, Way Back', 'Baggage Claim', 'The Big Wedding', 'The Sapphires', 'Broken City', 'The Bling Ring', 'Dead Man Down', 'Admission', 'Fruitvale Station', 'Battle of the Year', 'The Last Exorcism Part II', 'Machete Kills', 'Paranoia', \"I'm So Excited\", 'Nebraska', 'Out of the Furnace', 'Before Midnight', 'Getaway', 'Bullet to the Head', 'Black Nativity', 'Blue Is the Warmest Color', 'Unfinished Song', 'The Spectacular Now', 'All Is Lost', 'Closed Circuit', 'The Company You Keep', 'Oldboy', 'Frances Ha', 'Emperor', 'Stand Up Guys', 'In a World', 'The East', 'No', 'Renoir', 'Austenland', 'The Iceman', 'Girl Most Likely', 'Wadjda', 'Much Ado About Nothing', 'The Butler', 'The Canyons', 'The Call', 'The English Teacher', 'John Dies at the End', 'Lovelace']\n"
          ]
        }
      ]
    },
    {
      "cell_type": "code",
      "source": [
        "#Get the movie name from the user\n",
        "movie_name = input(\"Enter the movie name: \")\n",
        "\n",
        "#find the close match from the user input name\n",
        "find_close_match = difflib.get_close_matches(movie_name, list_of_all_titles)\n",
        "print(find_close_match)"
      ],
      "metadata": {
        "colab": {
          "base_uri": "https://localhost:8080/"
        },
        "id": "NKuNqiaIquWu",
        "outputId": "d1987be8-24d1-473b-b102-02e5ff5892ef"
      },
      "execution_count": null,
      "outputs": [
        {
          "output_type": "stream",
          "name": "stdout",
          "text": [
            "Enter the movie name: iron man\n",
            "['Iron Man', 'Iron Man 3', 'Iron Man 2']\n"
          ]
        }
      ]
    },
    {
      "cell_type": "code",
      "source": [
        "close_match = find_close_match[0]\n",
        "print(close_match)\n",
        "index_of_the_movie = movie_data[movie_data.Movie == close_match]['Movie'].values[0]\n",
        "print(index_of_the_movie)"
      ],
      "metadata": {
        "colab": {
          "base_uri": "https://localhost:8080/"
        },
        "id": "kqe8ZDc_q27Y",
        "outputId": "72ce218e-283c-4087-b0df-9c084fb70ec4"
      },
      "execution_count": null,
      "outputs": [
        {
          "output_type": "stream",
          "name": "stdout",
          "text": [
            "Iron Man\n",
            "Iron Man\n"
          ]
        }
      ]
    },
    {
      "cell_type": "code",
      "source": [
        "# getting a list of similar movies\n",
        "\n",
        "# Get the integer index of the movie from the DataFrame\n",
        "# Replace the incorrect line with the following:\n",
        "index_of_the_movie = movie_data[movie_data.Movie == close_match].index[0]\n",
        "\n",
        "similarity_score = list(enumerate(similarity[index_of_the_movie]))\n",
        "print(similarity_score)"
      ],
      "metadata": {
        "colab": {
          "base_uri": "https://localhost:8080/"
        },
        "id": "ObxLb2gIrOdI",
        "outputId": "5e702d7b-5fd7-4160-cc4d-a91009610e79"
      },
      "execution_count": null,
      "outputs": [
        {
          "output_type": "stream",
          "name": "stdout",
          "text": [
            "[(0, np.float64(0.49992371273960196)), (1, np.float64(0.08701640564449797)), (2, np.float64(0.17636423461512551)), (3, np.float64(0.04280544768823441)), (4, np.float64(0.0)), (5, np.float64(0.0)), (6, np.float64(0.0)), (7, np.float64(0.0)), (8, np.float64(0.0)), (9, np.float64(0.06381088292960435)), (10, np.float64(0.0)), (11, np.float64(0.0)), (12, np.float64(0.0)), (13, np.float64(0.0)), (14, np.float64(0.0)), (15, np.float64(0.055350648342246074)), (16, np.float64(0.04083432958676101)), (17, np.float64(0.04030033991658495)), (18, np.float64(0.0)), (19, np.float64(0.0)), (20, np.float64(0.08048215258427856)), (21, np.float64(0.0)), (22, np.float64(0.0)), (23, np.float64(0.0)), (24, np.float64(0.08862823821594809)), (25, np.float64(0.0)), (26, np.float64(0.05788928528004015)), (27, np.float64(0.0)), (28, np.float64(0.0)), (29, np.float64(0.10740172730540423)), (30, np.float64(0.0)), (31, np.float64(0.0)), (32, np.float64(0.14816249520902247)), (33, np.float64(0.10250718368700863)), (34, np.float64(0.06936828008990324)), (35, np.float64(0.05386769594170907)), (36, np.float64(0.0)), (37, np.float64(0.0)), (38, np.float64(0.0)), (39, np.float64(0.0)), (40, np.float64(0.0)), (41, np.float64(0.0)), (42, np.float64(0.06919968442421208)), (43, np.float64(0.0)), (44, np.float64(0.0)), (45, np.float64(0.0)), (46, np.float64(0.0)), (47, np.float64(0.0)), (48, np.float64(0.0)), (49, np.float64(0.07799006584950881)), (50, np.float64(0.17603075565724516)), (51, np.float64(0.0)), (52, np.float64(0.0)), (53, np.float64(0.0)), (54, np.float64(0.06337602316993154)), (55, np.float64(0.0)), (56, np.float64(0.07025958109647995)), (57, np.float64(0.0)), (58, np.float64(0.10387648223423848)), (59, np.float64(0.061916154154120315)), (60, np.float64(0.09381075905227365)), (61, np.float64(0.05554817586933386)), (62, np.float64(0.0)), (63, np.float64(0.10250718368700863)), (64, np.float64(0.0)), (65, np.float64(0.0)), (66, np.float64(0.0)), (67, np.float64(0.0)), (68, np.float64(0.0)), (69, np.float64(0.0)), (70, np.float64(0.0)), (71, np.float64(0.06640322288938853)), (72, np.float64(0.0)), (73, np.float64(0.0)), (74, np.float64(0.0)), (75, np.float64(0.0)), (76, np.float64(0.0)), (77, np.float64(0.0937251238090812)), (78, np.float64(0.0)), (79, np.float64(0.10865695002799335)), (80, np.float64(0.0)), (81, np.float64(0.0866743794352294)), (82, np.float64(0.0)), (83, np.float64(0.0)), (84, np.float64(0.0)), (85, np.float64(0.0)), (86, np.float64(0.04994550583864818)), (87, np.float64(0.0)), (88, np.float64(0.0)), (89, np.float64(0.04187670628374672)), (90, np.float64(0.045254757006161335)), (91, np.float64(0.061848535680570395)), (92, np.float64(1.0000000000000002)), (93, np.float64(0.13679036078812293)), (94, np.float64(0.145028027560976)), (95, np.float64(0.07611975142348486)), (96, np.float64(0.13016756675889246)), (97, np.float64(0.12473807540548772)), (98, np.float64(0.07448767786098152)), (99, np.float64(0.10445028301740386)), (100, np.float64(0.04369306303252265)), (101, np.float64(0.06185567668258639)), (102, np.float64(0.05727759501343592)), (103, np.float64(0.06239469395999967)), (104, np.float64(0.0773940742740277)), (105, np.float64(0.0570067866549755)), (106, np.float64(0.3212379126092695)), (107, np.float64(0.14705238704547374)), (108, np.float64(0.12108953982117918)), (109, np.float64(0.0627415755824099)), (110, np.float64(0.12361776123527993)), (111, np.float64(0.05998052672984099)), (112, np.float64(0.0696134699602522)), (113, np.float64(0.06542124050117887)), (114, np.float64(0.08859950596913779)), (115, np.float64(0.09732156429078523)), (116, np.float64(0.21368620284805953)), (117, np.float64(0.06488630939500228)), (118, np.float64(0.04180430622024682)), (119, np.float64(0.267663953210493)), (120, np.float64(0.057639575199232615)), (121, np.float64(0.046574746645037884)), (122, np.float64(0.045732344678124086)), (123, np.float64(0.12492352553072171)), (124, np.float64(0.06268878253740202)), (125, np.float64(0.07376956491099036)), (126, np.float64(0.053391272999879134)), (127, np.float64(0.14354165053305784)), (128, np.float64(0.24276575897122588)), (129, np.float64(0.04355527170245447)), (130, np.float64(0.06268797426716452)), (131, np.float64(0.0918827973734326)), (132, np.float64(0.046566920618074235)), (133, np.float64(0.06083503675779381)), (134, np.float64(0.1174297371776438)), (135, np.float64(0.057854994143843264)), (136, np.float64(0.06095349699600165)), (137, np.float64(0.06942339569075615)), (138, np.float64(0.052629782840397855)), (139, np.float64(0.05048060686718116)), (140, np.float64(0.06407599641789369)), (141, np.float64(0.06030559750146868)), (142, np.float64(0.05489426779038509)), (143, np.float64(0.0708366042786877)), (144, np.float64(0.06276563960431607)), (145, np.float64(0.10229756946006388)), (146, np.float64(0.05705539657348062)), (147, np.float64(0.06371187096240732)), (148, np.float64(0.06091197338087645)), (149, np.float64(0.05566268953243426)), (150, np.float64(0.06031562364449742)), (151, np.float64(0.05144037272701751)), (152, np.float64(0.04501892065344385)), (153, np.float64(0.11552928901752421)), (154, np.float64(0.06340583754637442)), (155, np.float64(0.13876626715147833)), (156, np.float64(0.04774990698149914)), (157, np.float64(0.05003662961589576)), (158, np.float64(0.05504171713445394)), (159, np.float64(0.11680806477057602)), (160, np.float64(0.050565118846210705)), (161, np.float64(0.05768128526961864)), (162, np.float64(0.11044295631676654)), (163, np.float64(0.06339183813596831)), (164, np.float64(0.0376754068203449)), (165, np.float64(0.06288286409536688)), (166, np.float64(0.05284172647619109)), (167, np.float64(0.04552684510705874)), (168, np.float64(0.12048151306459998)), (169, np.float64(0.07701282499729326)), (170, np.float64(0.041258136035953255)), (171, np.float64(0.05848997909480669)), (172, np.float64(0.07798349545463933)), (173, np.float64(0.14899414792035856)), (174, np.float64(0.16984313871375262)), (175, np.float64(0.06095349699600165)), (176, np.float64(0.07004987242014739)), (177, np.float64(0.14464857836481382)), (178, np.float64(0.06976079402084462)), (179, np.float64(0.04611954046263088)), (180, np.float64(0.06876181352721392)), (181, np.float64(0.044179846085724145)), (182, np.float64(0.07577752627442814)), (183, np.float64(0.07034972193279251)), (184, np.float64(0.05940762482001579)), (185, np.float64(0.05917639073484389)), (186, np.float64(0.07102579050677688)), (187, np.float64(0.07102365197219399)), (188, np.float64(0.052993897515477055)), (189, np.float64(0.05351685181284826)), (190, np.float64(0.12457714412205402)), (191, np.float64(0.07169222007341666)), (192, np.float64(0.06386824699440195)), (193, np.float64(0.10153064262703311)), (194, np.float64(0.10855119828262325)), (195, np.float64(0.05412127782851901)), (196, np.float64(0.04889435118772552)), (197, np.float64(0.148807822333964)), (198, np.float64(0.04725092967129079)), (199, np.float64(0.06245553101451737)), (200, np.float64(0.1372931995184437)), (201, np.float64(0.07040852912430165)), (202, np.float64(0.05168909962587268)), (203, np.float64(0.07389216904586467)), (204, np.float64(0.14164102854931326)), (205, np.float64(0.04460854386686739)), (206, np.float64(0.17629265346845002)), (207, np.float64(0.059952272376188616)), (208, np.float64(0.05940120193324028)), (209, np.float64(0.056669156770584136)), (210, np.float64(0.11695442241449074)), (211, np.float64(0.06368613916565313)), (212, np.float64(0.18389847903039136)), (213, np.float64(0.04984521889077452)), (214, np.float64(0.15974661491958614)), (215, np.float64(0.06858818486212288)), (216, np.float64(0.05472853490103189)), (217, np.float64(0.04102610967965852)), (218, np.float64(0.05391254441844621)), (219, np.float64(0.04739272060690828)), (220, np.float64(0.06556767278152814)), (221, np.float64(0.05065711766172944)), (222, np.float64(0.07642266896407082)), (223, np.float64(0.046647970681954073)), (224, np.float64(0.1299078362731212)), (225, np.float64(0.14199576185403825)), (226, np.float64(0.07524484444484629)), (227, np.float64(0.06919373628332942)), (228, np.float64(0.06359203431684149)), (229, np.float64(0.07273098375898276)), (230, np.float64(0.047389643546619786)), (231, np.float64(0.053744934791868364)), (232, np.float64(0.04738575141575104)), (233, np.float64(0.10423667663559975)), (234, np.float64(0.09684354111393309)), (235, np.float64(0.05956773229869722)), (236, np.float64(0.04993896888218823)), (237, np.float64(0.047961428029921115)), (238, np.float64(0.04447895922876267)), (239, np.float64(0.3256748789559931)), (240, np.float64(0.12120806043275034)), (241, np.float64(0.0)), (242, np.float64(0.0)), (243, np.float64(0.0)), (244, np.float64(0.0)), (245, np.float64(0.15142038751499054)), (246, np.float64(0.0)), (247, np.float64(0.0)), (248, np.float64(0.05508171454878265)), (249, np.float64(0.07864534608630423)), (250, np.float64(0.0)), (251, np.float64(0.05138198879009466)), (252, np.float64(0.0409235811650278)), (253, np.float64(0.09139907747174385)), (254, np.float64(0.0)), (255, np.float64(0.05560420797884784)), (256, np.float64(0.12731646446528533)), (257, np.float64(0.0453300065762858)), (258, np.float64(0.07177248699481617)), (259, np.float64(0.0)), (260, np.float64(0.0)), (261, np.float64(0.05309015412826765)), (262, np.float64(0.0)), (263, np.float64(0.0)), (264, np.float64(0.09293353443271024)), (265, np.float64(0.32797241181394404)), (266, np.float64(0.0)), (267, np.float64(0.0)), (268, np.float64(0.0)), (269, np.float64(0.06452867340709242)), (270, np.float64(0.1867454754576883)), (271, np.float64(0.0)), (272, np.float64(0.0)), (273, np.float64(0.0)), (274, np.float64(0.0)), (275, np.float64(0.08764640821925325)), (276, np.float64(0.0)), (277, np.float64(0.0)), (278, np.float64(0.0)), (279, np.float64(0.06647542225288224)), (280, np.float64(0.0)), (281, np.float64(0.0)), (282, np.float64(0.08519950295042723)), (283, np.float64(0.0)), (284, np.float64(0.32312068276335304)), (285, np.float64(0.0)), (286, np.float64(0.0444009631557736)), (287, np.float64(0.0)), (288, np.float64(0.053950991873757)), (289, np.float64(0.08278758719529689)), (290, np.float64(0.0)), (291, np.float64(0.07952868149975545)), (292, np.float64(0.0)), (293, np.float64(0.0)), (294, np.float64(0.0)), (295, np.float64(0.0)), (296, np.float64(0.0)), (297, np.float64(0.0)), (298, np.float64(0.0)), (299, np.float64(0.0)), (300, np.float64(0.0)), (301, np.float64(0.04908110340720016)), (302, np.float64(0.0)), (303, np.float64(0.08436035155178247)), (304, np.float64(0.0)), (305, np.float64(0.0)), (306, np.float64(0.0)), (307, np.float64(0.0)), (308, np.float64(0.0)), (309, np.float64(0.0)), (310, np.float64(0.05940747644142827)), (311, np.float64(0.054313178828981894)), (312, np.float64(0.0)), (313, np.float64(0.0)), (314, np.float64(0.0)), (315, np.float64(0.0)), (316, np.float64(0.0)), (317, np.float64(0.0)), (318, np.float64(0.0)), (319, np.float64(0.0)), (320, np.float64(0.0)), (321, np.float64(0.06815310846190564)), (322, np.float64(0.0)), (323, np.float64(0.10761588854862965)), (324, np.float64(0.0)), (325, np.float64(0.0)), (326, np.float64(0.10118360626670157)), (327, np.float64(0.0)), (328, np.float64(0.0)), (329, np.float64(0.15055321019734003)), (330, np.float64(0.0)), (331, np.float64(0.06256289184518914)), (332, np.float64(0.0)), (333, np.float64(0.0)), (334, np.float64(0.0)), (335, np.float64(0.0)), (336, np.float64(0.0)), (337, np.float64(0.06674881193555308)), (338, np.float64(0.0)), (339, np.float64(0.0)), (340, np.float64(0.0)), (341, np.float64(0.0)), (342, np.float64(0.0)), (343, np.float64(0.0)), (344, np.float64(0.0)), (345, np.float64(0.09285697604115412)), (346, np.float64(0.0)), (347, np.float64(0.06658050572975628)), (348, np.float64(0.0)), (349, np.float64(0.0)), (350, np.float64(0.0)), (351, np.float64(0.0)), (352, np.float64(0.039335344265749035)), (353, np.float64(0.04832302877122947)), (354, np.float64(0.0)), (355, np.float64(0.0)), (356, np.float64(0.05684646346796423)), (357, np.float64(0.0)), (358, np.float64(0.0)), (359, np.float64(0.0)), (360, np.float64(0.0)), (361, np.float64(0.06707509684685699)), (362, np.float64(0.06655071822911415)), (363, np.float64(0.05451161253577696)), (364, np.float64(0.0)), (365, np.float64(0.057089635395740315)), (366, np.float64(0.21395554265314626)), (367, np.float64(0.0)), (368, np.float64(0.040744784942811745)), (369, np.float64(0.0)), (370, np.float64(0.0)), (371, np.float64(0.0)), (372, np.float64(0.0)), (373, np.float64(0.0)), (374, np.float64(0.0)), (375, np.float64(0.0)), (376, np.float64(0.0)), (377, np.float64(0.0)), (378, np.float64(0.0)), (379, np.float64(0.0)), (380, np.float64(0.0)), (381, np.float64(0.0)), (382, np.float64(0.05493809652028284)), (383, np.float64(0.0)), (384, np.float64(0.08088994722501647)), (385, np.float64(0.0)), (386, np.float64(0.041223515727381935)), (387, np.float64(0.0)), (388, np.float64(0.0)), (389, np.float64(0.053620552133982376)), (390, np.float64(0.0)), (391, np.float64(0.05924567724334408)), (392, np.float64(0.0)), (393, np.float64(0.0)), (394, np.float64(0.0)), (395, np.float64(0.0671848188953163)), (396, np.float64(0.0)), (397, np.float64(0.0)), (398, np.float64(0.0)), (399, np.float64(0.0)), (400, np.float64(0.0)), (401, np.float64(0.08060920756362965)), (402, np.float64(0.0)), (403, np.float64(0.0)), (404, np.float64(0.0)), (405, np.float64(0.0)), (406, np.float64(0.0)), (407, np.float64(0.06354283924092967)), (408, np.float64(0.0)), (409, np.float64(0.05168017153496493)), (410, np.float64(0.0)), (411, np.float64(0.0)), (412, np.float64(0.0)), (413, np.float64(0.06002328063235413)), (414, np.float64(0.0)), (415, np.float64(0.0)), (416, np.float64(0.0)), (417, np.float64(0.0)), (418, np.float64(0.0)), (419, np.float64(0.06662870394184793)), (420, np.float64(0.0)), (421, np.float64(0.05639684073551581)), (422, np.float64(0.7242711311422549)), (423, np.float64(0.10215834126065762)), (424, np.float64(0.054305865977054356)), (425, np.float64(0.0)), (426, np.float64(0.05901215364453602)), (427, np.float64(0.06948937495551824)), (428, np.float64(0.05917537186405233)), (429, np.float64(0.0)), (430, np.float64(0.0)), (431, np.float64(0.06706132446730242)), (432, np.float64(0.0)), (433, np.float64(0.0)), (434, np.float64(0.0)), (435, np.float64(0.0)), (436, np.float64(0.07500583958311148)), (437, np.float64(0.07169759510193192)), (438, np.float64(0.0)), (439, np.float64(0.10401547594803129)), (440, np.float64(0.0)), (441, np.float64(0.0)), (442, np.float64(0.0)), (443, np.float64(0.0)), (444, np.float64(0.0)), (445, np.float64(0.09092194869519998)), (446, np.float64(0.03953790015039844)), (447, np.float64(0.0)), (448, np.float64(0.0)), (449, np.float64(0.06658174593622693)), (450, np.float64(0.04093466533459445)), (451, np.float64(0.07293477539384943)), (452, np.float64(0.0)), (453, np.float64(0.05911550279252273)), (454, np.float64(0.040487804916397356)), (455, np.float64(0.05723931014649796)), (456, np.float64(0.06890993215639805)), (457, np.float64(0.0)), (458, np.float64(0.04481557521136205)), (459, np.float64(0.0)), (460, np.float64(0.07491103785607177)), (461, np.float64(0.07189946967485615)), (462, np.float64(0.09061781879128586)), (463, np.float64(0.06706132446730242)), (464, np.float64(0.17682980568860254)), (465, np.float64(0.0)), (466, np.float64(0.0)), (467, np.float64(0.06974716447360634)), (468, np.float64(0.0)), (469, np.float64(0.0679856562574217)), (470, np.float64(0.0)), (471, np.float64(0.0)), (472, np.float64(0.05547325185026999)), (473, np.float64(0.05649442468231906)), (474, np.float64(0.0)), (475, np.float64(0.0)), (476, np.float64(0.07051522006575872)), (477, np.float64(0.1056726329248803)), (478, np.float64(0.0)), (479, np.float64(0.0)), (480, np.float64(0.057460007944987936)), (481, np.float64(0.0)), (482, np.float64(0.0)), (483, np.float64(0.15365994968979965)), (484, np.float64(0.0)), (485, np.float64(0.0)), (486, np.float64(0.06461533164100834)), (487, np.float64(0.0)), (488, np.float64(0.06092641191375967)), (489, np.float64(0.0)), (490, np.float64(0.0)), (491, np.float64(0.05413457491620539)), (492, np.float64(0.04718637252128524)), (493, np.float64(0.0)), (494, np.float64(0.0)), (495, np.float64(0.0)), (496, np.float64(0.0)), (497, np.float64(0.0)), (498, np.float64(0.0)), (499, np.float64(0.0)), (500, np.float64(0.04718285751445247)), (501, np.float64(0.08470001932399508)), (502, np.float64(0.06869742645318483)), (503, np.float64(0.0)), (504, np.float64(0.0)), (505, np.float64(0.0)), (506, np.float64(0.0)), (507, np.float64(0.0)), (508, np.float64(0.0)), (509, np.float64(0.0)), (510, np.float64(0.0)), (511, np.float64(0.0)), (512, np.float64(0.0)), (513, np.float64(0.0)), (514, np.float64(0.0)), (515, np.float64(0.0)), (516, np.float64(0.057899326343678954)), (517, np.float64(0.0)), (518, np.float64(0.0)), (519, np.float64(0.0)), (520, np.float64(0.0)), (521, np.float64(0.0)), (522, np.float64(0.0)), (523, np.float64(0.0)), (524, np.float64(0.04538040610137001)), (525, np.float64(0.22711467060524768)), (526, np.float64(0.0)), (527, np.float64(0.0)), (528, np.float64(0.21032685793932482)), (529, np.float64(0.0)), (530, np.float64(0.0)), (531, np.float64(0.06898332196198638)), (532, np.float64(0.054937232385196724)), (533, np.float64(0.0)), (534, np.float64(0.05338332506663367)), (535, np.float64(0.0)), (536, np.float64(0.0)), (537, np.float64(0.0)), (538, np.float64(0.0)), (539, np.float64(0.0)), (540, np.float64(0.0)), (541, np.float64(0.05795087819419131)), (542, np.float64(0.0)), (543, np.float64(0.0)), (544, np.float64(0.0)), (545, np.float64(0.05854320654506858)), (546, np.float64(0.0)), (547, np.float64(0.0)), (548, np.float64(0.0)), (549, np.float64(0.0)), (550, np.float64(0.0)), (551, np.float64(0.2683791947585087)), (552, np.float64(0.0)), (553, np.float64(0.07078044489913354)), (554, np.float64(0.0)), (555, np.float64(0.0)), (556, np.float64(0.0)), (557, np.float64(0.0)), (558, np.float64(0.11315872251572003)), (559, np.float64(0.0778911969257692)), (560, np.float64(0.06079410520456841)), (561, np.float64(0.0)), (562, np.float64(0.0)), (563, np.float64(0.0)), (564, np.float64(0.0)), (565, np.float64(0.0)), (566, np.float64(0.0)), (567, np.float64(0.05785696456436008)), (568, np.float64(0.0)), (569, np.float64(0.0)), (570, np.float64(0.0)), (571, np.float64(0.04806816862163993)), (572, np.float64(0.0)), (573, np.float64(0.0)), (574, np.float64(0.0)), (575, np.float64(0.1473568033089412)), (576, np.float64(0.0)), (577, np.float64(0.0)), (578, np.float64(0.0)), (579, np.float64(0.0)), (580, np.float64(0.0)), (581, np.float64(0.0)), (582, np.float64(0.0)), (583, np.float64(0.0)), (584, np.float64(0.0)), (585, np.float64(0.0)), (586, np.float64(0.040570204751831)), (587, np.float64(0.06652785173504998)), (588, np.float64(0.0)), (589, np.float64(0.08174645148749661)), (590, np.float64(0.05264096078661995)), (591, np.float64(0.0)), (592, np.float64(0.0)), (593, np.float64(0.0)), (594, np.float64(0.043901313695155965)), (595, np.float64(0.062254028139523535)), (596, np.float64(0.0)), (597, np.float64(0.048952057954654335)), (598, np.float64(0.0)), (599, np.float64(0.0)), (600, np.float64(0.05670042731145346)), (601, np.float64(0.0)), (602, np.float64(0.0)), (603, np.float64(0.0)), (604, np.float64(0.041249745047052845)), (605, np.float64(0.045658967507603905)), (606, np.float64(0.10107452303035938)), (607, np.float64(0.0)), (608, np.float64(0.0)), (609, np.float64(0.0)), (610, np.float64(0.08233706663321855)), (611, np.float64(0.0)), (612, np.float64(0.0)), (613, np.float64(0.0)), (614, np.float64(0.20791196265156794)), (615, np.float64(0.0)), (616, np.float64(0.0)), (617, np.float64(0.0)), (618, np.float64(0.0)), (619, np.float64(0.0)), (620, np.float64(0.07112361760408921)), (621, np.float64(0.0)), (622, np.float64(0.05188952501465104)), (623, np.float64(0.0)), (624, np.float64(0.0)), (625, np.float64(0.0)), (626, np.float64(0.3081449410198024)), (627, np.float64(0.0)), (628, np.float64(0.06800662314642203)), (629, np.float64(0.0)), (630, np.float64(0.0)), (631, np.float64(0.0)), (632, np.float64(0.0)), (633, np.float64(0.0)), (634, np.float64(0.0)), (635, np.float64(0.0)), (636, np.float64(0.057664603760367285)), (637, np.float64(0.0)), (638, np.float64(0.06618344994440829)), (639, np.float64(0.0)), (640, np.float64(0.0)), (641, np.float64(0.049266262790733706)), (642, np.float64(0.0)), (643, np.float64(0.0)), (644, np.float64(0.0)), (645, np.float64(0.0694988597528171)), (646, np.float64(0.0)), (647, np.float64(0.0)), (648, np.float64(0.0)), (649, np.float64(0.0)), (650, np.float64(0.049918748087359466)), (651, np.float64(0.0)), (652, np.float64(0.0)), (653, np.float64(0.0)), (654, np.float64(0.0)), (655, np.float64(0.0)), (656, np.float64(0.0)), (657, np.float64(0.0)), (658, np.float64(0.0)), (659, np.float64(0.0)), (660, np.float64(0.0)), (661, np.float64(0.0)), (662, np.float64(0.0)), (663, np.float64(0.0)), (664, np.float64(0.0)), (665, np.float64(0.0)), (666, np.float64(0.0)), (667, np.float64(0.0)), (668, np.float64(0.0)), (669, np.float64(0.0)), (670, np.float64(0.0)), (671, np.float64(0.0)), (672, np.float64(0.0)), (673, np.float64(0.0)), (674, np.float64(0.0)), (675, np.float64(0.0)), (676, np.float64(0.0)), (677, np.float64(0.0)), (678, np.float64(0.0)), (679, np.float64(0.0)), (680, np.float64(0.0)), (681, np.float64(0.0)), (682, np.float64(0.0)), (683, np.float64(0.0)), (684, np.float64(0.0)), (685, np.float64(0.042360435526563996)), (686, np.float64(0.0)), (687, np.float64(0.0)), (688, np.float64(0.0)), (689, np.float64(0.12827593207154628)), (690, np.float64(0.0)), (691, np.float64(0.0)), (692, np.float64(0.0)), (693, np.float64(0.0)), (694, np.float64(0.0)), (695, np.float64(0.0)), (696, np.float64(0.0)), (697, np.float64(0.06652485074715653)), (698, np.float64(0.0)), (699, np.float64(0.0)), (700, np.float64(0.0)), (701, np.float64(0.0)), (702, np.float64(0.0)), (703, np.float64(0.0)), (704, np.float64(0.0)), (705, np.float64(0.0)), (706, np.float64(0.0)), (707, np.float64(0.10176557868461504)), (708, np.float64(0.07033750548727578)), (709, np.float64(0.0)), (710, np.float64(0.0)), (711, np.float64(0.0)), (712, np.float64(0.08024146607939461)), (713, np.float64(0.0)), (714, np.float64(0.0)), (715, np.float64(0.0)), (716, np.float64(0.0)), (717, np.float64(0.0)), (718, np.float64(0.0)), (719, np.float64(0.0)), (720, np.float64(0.0)), (721, np.float64(0.0)), (722, np.float64(0.0)), (723, np.float64(0.0)), (724, np.float64(0.24649076329006464)), (725, np.float64(0.0)), (726, np.float64(0.0)), (727, np.float64(0.0)), (728, np.float64(0.0)), (729, np.float64(0.0)), (730, np.float64(0.0)), (731, np.float64(0.0)), (732, np.float64(0.0)), (733, np.float64(0.10172203465675615)), (734, np.float64(0.0)), (735, np.float64(0.0)), (736, np.float64(0.0)), (737, np.float64(0.0)), (738, np.float64(0.0)), (739, np.float64(0.0)), (740, np.float64(0.07114927313875011)), (741, np.float64(0.056964862179723345)), (742, np.float64(0.0)), (743, np.float64(0.04432877869193814)), (744, np.float64(0.0)), (745, np.float64(0.0)), (746, np.float64(0.0)), (747, np.float64(0.0)), (748, np.float64(0.0)), (749, np.float64(0.0)), (750, np.float64(0.0)), (751, np.float64(0.0)), (752, np.float64(0.0)), (753, np.float64(0.0)), (754, np.float64(0.0)), (755, np.float64(0.17592421867597427)), (756, np.float64(0.0)), (757, np.float64(0.0)), (758, np.float64(0.0)), (759, np.float64(0.0)), (760, np.float64(0.0)), (761, np.float64(0.0)), (762, np.float64(0.0)), (763, np.float64(0.0)), (764, np.float64(0.0)), (765, np.float64(0.0)), (766, np.float64(0.0)), (767, np.float64(0.0)), (768, np.float64(0.0)), (769, np.float64(0.0)), (770, np.float64(0.19354422024371223)), (771, np.float64(0.0)), (772, np.float64(0.0)), (773, np.float64(0.0)), (774, np.float64(0.0)), (775, np.float64(0.0)), (776, np.float64(0.0)), (777, np.float64(0.0)), (778, np.float64(0.0)), (779, np.float64(0.10048645150316539)), (780, np.float64(0.12421375860378817)), (781, np.float64(0.0)), (782, np.float64(0.0)), (783, np.float64(0.0)), (784, np.float64(0.09813259466433312)), (785, np.float64(0.0)), (786, np.float64(0.0)), (787, np.float64(0.0)), (788, np.float64(0.0)), (789, np.float64(0.0)), (790, np.float64(0.0)), (791, np.float64(0.0)), (792, np.float64(0.0)), (793, np.float64(0.0)), (794, np.float64(0.0)), (795, np.float64(0.0)), (796, np.float64(0.0)), (797, np.float64(0.0)), (798, np.float64(0.0)), (799, np.float64(0.0)), (800, np.float64(0.0)), (801, np.float64(0.0)), (802, np.float64(0.0)), (803, np.float64(0.0)), (804, np.float64(0.0)), (805, np.float64(0.0)), (806, np.float64(0.0)), (807, np.float64(0.0)), (808, np.float64(0.0)), (809, np.float64(0.0)), (810, np.float64(0.0)), (811, np.float64(0.0)), (812, np.float64(0.0)), (813, np.float64(0.0)), (814, np.float64(0.0)), (815, np.float64(0.0)), (816, np.float64(0.0)), (817, np.float64(0.0)), (818, np.float64(0.0)), (819, np.float64(0.0)), (820, np.float64(0.0)), (821, np.float64(0.0)), (822, np.float64(0.0)), (823, np.float64(0.5819356680265827)), (824, np.float64(0.0)), (825, np.float64(0.05008211806681376)), (826, np.float64(0.0)), (827, np.float64(0.0)), (828, np.float64(0.0639008321941818)), (829, np.float64(0.0)), (830, np.float64(0.0)), (831, np.float64(0.2792170717054824)), (832, np.float64(0.0)), (833, np.float64(0.0)), (834, np.float64(0.11490609823065544)), (835, np.float64(0.0)), (836, np.float64(0.0774962311994063)), (837, np.float64(0.0)), (838, np.float64(0.0)), (839, np.float64(0.10179695032209614)), (840, np.float64(0.0)), (841, np.float64(0.0)), (842, np.float64(0.0)), (843, np.float64(0.0)), (844, np.float64(0.0)), (845, np.float64(0.0)), (846, np.float64(0.0)), (847, np.float64(0.0)), (848, np.float64(0.0)), (849, np.float64(0.0)), (850, np.float64(0.0)), (851, np.float64(0.0)), (852, np.float64(0.0)), (853, np.float64(0.0)), (854, np.float64(0.09779951582597304)), (855, np.float64(0.0)), (856, np.float64(0.0)), (857, np.float64(0.0)), (858, np.float64(0.0)), (859, np.float64(0.08536942303937507)), (860, np.float64(0.0)), (861, np.float64(0.0)), (862, np.float64(0.0)), (863, np.float64(0.12833877961332643)), (864, np.float64(0.0)), (865, np.float64(0.0)), (866, np.float64(0.0)), (867, np.float64(0.10012891324644806)), (868, np.float64(0.0)), (869, np.float64(0.0)), (870, np.float64(0.0)), (871, np.float64(0.0)), (872, np.float64(0.0)), (873, np.float64(0.0)), (874, np.float64(0.0)), (875, np.float64(0.0)), (876, np.float64(0.0)), (877, np.float64(0.0)), (878, np.float64(0.0)), (879, np.float64(0.0)), (880, np.float64(0.0)), (881, np.float64(0.0)), (882, np.float64(0.0)), (883, np.float64(0.0)), (884, np.float64(0.0)), (885, np.float64(0.0)), (886, np.float64(0.04560689312681478)), (887, np.float64(0.0)), (888, np.float64(0.0)), (889, np.float64(0.09209314542052233)), (890, np.float64(0.0)), (891, np.float64(0.0)), (892, np.float64(0.0)), (893, np.float64(0.0)), (894, np.float64(0.19551063566911236)), (895, np.float64(0.0)), (896, np.float64(0.0)), (897, np.float64(0.0)), (898, np.float64(0.0)), (899, np.float64(0.0)), (900, np.float64(0.0)), (901, np.float64(0.0)), (902, np.float64(0.0)), (903, np.float64(0.0)), (904, np.float64(0.0)), (905, np.float64(0.0)), (906, np.float64(0.0)), (907, np.float64(0.0)), (908, np.float64(0.0)), (909, np.float64(0.0)), (910, np.float64(0.0)), (911, np.float64(0.0)), (912, np.float64(0.0)), (913, np.float64(0.0)), (914, np.float64(0.20411493155585927)), (915, np.float64(0.0)), (916, np.float64(0.0)), (917, np.float64(0.0)), (918, np.float64(0.0)), (919, np.float64(0.0)), (920, np.float64(0.0)), (921, np.float64(0.0)), (922, np.float64(0.0)), (923, np.float64(0.0)), (924, np.float64(0.0)), (925, np.float64(0.0)), (926, np.float64(0.0)), (927, np.float64(0.0)), (928, np.float64(0.0)), (929, np.float64(0.0)), (930, np.float64(0.0)), (931, np.float64(0.1941879832876271)), (932, np.float64(0.0)), (933, np.float64(0.0)), (934, np.float64(0.0)), (935, np.float64(0.0)), (936, np.float64(0.0)), (937, np.float64(0.0)), (938, np.float64(0.0)), (939, np.float64(0.12833877961332643)), (940, np.float64(0.0)), (941, np.float64(0.0)), (942, np.float64(0.0)), (943, np.float64(0.0)), (944, np.float64(0.0)), (945, np.float64(0.0)), (946, np.float64(0.0)), (947, np.float64(0.0)), (948, np.float64(0.0)), (949, np.float64(0.0)), (950, np.float64(0.0)), (951, np.float64(0.0)), (952, np.float64(0.0)), (953, np.float64(0.0)), (954, np.float64(0.0)), (955, np.float64(0.0)), (956, np.float64(0.0)), (957, np.float64(0.0)), (958, np.float64(0.0)), (959, np.float64(0.0)), (960, np.float64(0.0)), (961, np.float64(0.0)), (962, np.float64(0.0)), (963, np.float64(0.0)), (964, np.float64(0.0)), (965, np.float64(0.0)), (966, np.float64(0.0)), (967, np.float64(0.0)), (968, np.float64(0.0)), (969, np.float64(0.0))]\n"
          ]
        }
      ]
    },
    {
      "cell_type": "code",
      "source": [
        "# sorting the movies based on their similarity score\n",
        "\n",
        "sorted_similar_movies = sorted(similarity_score, key = lambda x:x[1], reverse = True)\n",
        "print(sorted_similar_movies)"
      ],
      "metadata": {
        "colab": {
          "base_uri": "https://localhost:8080/"
        },
        "id": "PBNWF_0Xr263",
        "outputId": "80308b85-b6ee-44c9-c65b-302122dc1b79"
      },
      "execution_count": null,
      "outputs": [
        {
          "output_type": "stream",
          "name": "stdout",
          "text": [
            "[(92, np.float64(1.0000000000000002)), (422, np.float64(0.7242711311422549)), (823, np.float64(0.5819356680265827)), (0, np.float64(0.49992371273960196)), (265, np.float64(0.32797241181394404)), (239, np.float64(0.3256748789559931)), (284, np.float64(0.32312068276335304)), (106, np.float64(0.3212379126092695)), (626, np.float64(0.3081449410198024)), (831, np.float64(0.2792170717054824)), (551, np.float64(0.2683791947585087)), (119, np.float64(0.267663953210493)), (724, np.float64(0.24649076329006464)), (128, np.float64(0.24276575897122588)), (525, np.float64(0.22711467060524768)), (366, np.float64(0.21395554265314626)), (116, np.float64(0.21368620284805953)), (528, np.float64(0.21032685793932482)), (614, np.float64(0.20791196265156794)), (914, np.float64(0.20411493155585927)), (894, np.float64(0.19551063566911236)), (931, np.float64(0.1941879832876271)), (770, np.float64(0.19354422024371223)), (270, np.float64(0.1867454754576883)), (212, np.float64(0.18389847903039136)), (464, np.float64(0.17682980568860254)), (2, np.float64(0.17636423461512551)), (206, np.float64(0.17629265346845002)), (50, np.float64(0.17603075565724516)), (755, np.float64(0.17592421867597427)), (174, np.float64(0.16984313871375262)), (214, np.float64(0.15974661491958614)), (483, np.float64(0.15365994968979965)), (245, np.float64(0.15142038751499054)), (329, np.float64(0.15055321019734003)), (173, np.float64(0.14899414792035856)), (197, np.float64(0.148807822333964)), (32, np.float64(0.14816249520902247)), (575, np.float64(0.1473568033089412)), (107, np.float64(0.14705238704547374)), (94, np.float64(0.145028027560976)), (177, np.float64(0.14464857836481382)), (127, np.float64(0.14354165053305784)), (225, np.float64(0.14199576185403825)), (204, np.float64(0.14164102854931326)), (155, np.float64(0.13876626715147833)), (200, np.float64(0.1372931995184437)), (93, np.float64(0.13679036078812293)), (96, np.float64(0.13016756675889246)), (224, np.float64(0.1299078362731212)), (863, np.float64(0.12833877961332643)), (939, np.float64(0.12833877961332643)), (689, np.float64(0.12827593207154628)), (256, np.float64(0.12731646446528533)), (123, np.float64(0.12492352553072171)), (97, np.float64(0.12473807540548772)), (190, np.float64(0.12457714412205402)), (780, np.float64(0.12421375860378817)), (110, np.float64(0.12361776123527993)), (240, np.float64(0.12120806043275034)), (108, np.float64(0.12108953982117918)), (168, np.float64(0.12048151306459998)), (134, np.float64(0.1174297371776438)), (210, np.float64(0.11695442241449074)), (159, np.float64(0.11680806477057602)), (153, np.float64(0.11552928901752421)), (834, np.float64(0.11490609823065544)), (558, np.float64(0.11315872251572003)), (162, np.float64(0.11044295631676654)), (79, np.float64(0.10865695002799335)), (194, np.float64(0.10855119828262325)), (323, np.float64(0.10761588854862965)), (29, np.float64(0.10740172730540423)), (477, np.float64(0.1056726329248803)), (99, np.float64(0.10445028301740386)), (233, np.float64(0.10423667663559975)), (439, np.float64(0.10401547594803129)), (58, np.float64(0.10387648223423848)), (33, np.float64(0.10250718368700863)), (63, np.float64(0.10250718368700863)), (145, np.float64(0.10229756946006388)), (423, np.float64(0.10215834126065762)), (839, np.float64(0.10179695032209614)), (707, np.float64(0.10176557868461504)), (733, np.float64(0.10172203465675615)), (193, np.float64(0.10153064262703311)), (326, np.float64(0.10118360626670157)), (606, np.float64(0.10107452303035938)), (779, np.float64(0.10048645150316539)), (867, np.float64(0.10012891324644806)), (784, np.float64(0.09813259466433312)), (854, np.float64(0.09779951582597304)), (115, np.float64(0.09732156429078523)), (234, np.float64(0.09684354111393309)), (60, np.float64(0.09381075905227365)), (77, np.float64(0.0937251238090812)), (264, np.float64(0.09293353443271024)), (345, np.float64(0.09285697604115412)), (889, np.float64(0.09209314542052233)), (131, np.float64(0.0918827973734326)), (253, np.float64(0.09139907747174385)), (445, np.float64(0.09092194869519998)), (462, np.float64(0.09061781879128586)), (24, np.float64(0.08862823821594809)), (114, np.float64(0.08859950596913779)), (275, np.float64(0.08764640821925325)), (1, np.float64(0.08701640564449797)), (81, np.float64(0.0866743794352294)), (859, np.float64(0.08536942303937507)), (282, np.float64(0.08519950295042723)), (501, np.float64(0.08470001932399508)), (303, np.float64(0.08436035155178247)), (289, np.float64(0.08278758719529689)), (610, np.float64(0.08233706663321855)), (589, np.float64(0.08174645148749661)), (384, np.float64(0.08088994722501647)), (401, np.float64(0.08060920756362965)), (20, np.float64(0.08048215258427856)), (712, np.float64(0.08024146607939461)), (291, np.float64(0.07952868149975545)), (249, np.float64(0.07864534608630423)), (49, np.float64(0.07799006584950881)), (172, np.float64(0.07798349545463933)), (559, np.float64(0.0778911969257692)), (836, np.float64(0.0774962311994063)), (104, np.float64(0.0773940742740277)), (169, np.float64(0.07701282499729326)), (222, np.float64(0.07642266896407082)), (95, np.float64(0.07611975142348486)), (182, np.float64(0.07577752627442814)), (226, np.float64(0.07524484444484629)), (436, np.float64(0.07500583958311148)), (460, np.float64(0.07491103785607177)), (98, np.float64(0.07448767786098152)), (203, np.float64(0.07389216904586467)), (125, np.float64(0.07376956491099036)), (451, np.float64(0.07293477539384943)), (229, np.float64(0.07273098375898276)), (461, np.float64(0.07189946967485615)), (258, np.float64(0.07177248699481617)), (437, np.float64(0.07169759510193192)), (191, np.float64(0.07169222007341666)), (740, np.float64(0.07114927313875011)), (620, np.float64(0.07112361760408921)), (186, np.float64(0.07102579050677688)), (187, np.float64(0.07102365197219399)), (143, np.float64(0.0708366042786877)), (553, np.float64(0.07078044489913354)), (476, np.float64(0.07051522006575872)), (201, np.float64(0.07040852912430165)), (183, np.float64(0.07034972193279251)), (708, np.float64(0.07033750548727578)), (56, np.float64(0.07025958109647995)), (176, np.float64(0.07004987242014739)), (178, np.float64(0.06976079402084462)), (467, np.float64(0.06974716447360634)), (112, np.float64(0.0696134699602522)), (645, np.float64(0.0694988597528171)), (427, np.float64(0.06948937495551824)), (137, np.float64(0.06942339569075615)), (34, np.float64(0.06936828008990324)), (42, np.float64(0.06919968442421208)), (227, np.float64(0.06919373628332942)), (531, np.float64(0.06898332196198638)), (456, np.float64(0.06890993215639805)), (180, np.float64(0.06876181352721392)), (502, np.float64(0.06869742645318483)), (215, np.float64(0.06858818486212288)), (321, np.float64(0.06815310846190564)), (628, np.float64(0.06800662314642203)), (469, np.float64(0.0679856562574217)), (395, np.float64(0.0671848188953163)), (361, np.float64(0.06707509684685699)), (431, np.float64(0.06706132446730242)), (463, np.float64(0.06706132446730242)), (337, np.float64(0.06674881193555308)), (419, np.float64(0.06662870394184793)), (449, np.float64(0.06658174593622693)), (347, np.float64(0.06658050572975628)), (362, np.float64(0.06655071822911415)), (587, np.float64(0.06652785173504998)), (697, np.float64(0.06652485074715653)), (279, np.float64(0.06647542225288224)), (71, np.float64(0.06640322288938853)), (638, np.float64(0.06618344994440829)), (220, np.float64(0.06556767278152814)), (113, np.float64(0.06542124050117887)), (117, np.float64(0.06488630939500228)), (486, np.float64(0.06461533164100834)), (269, np.float64(0.06452867340709242)), (140, np.float64(0.06407599641789369)), (828, np.float64(0.0639008321941818)), (192, np.float64(0.06386824699440195)), (9, np.float64(0.06381088292960435)), (147, np.float64(0.06371187096240732)), (211, np.float64(0.06368613916565313)), (228, np.float64(0.06359203431684149)), (407, np.float64(0.06354283924092967)), (154, np.float64(0.06340583754637442)), (163, np.float64(0.06339183813596831)), (54, np.float64(0.06337602316993154)), (165, np.float64(0.06288286409536688)), (144, np.float64(0.06276563960431607)), (109, np.float64(0.0627415755824099)), (124, np.float64(0.06268878253740202)), (130, np.float64(0.06268797426716452)), (331, np.float64(0.06256289184518914)), (199, np.float64(0.06245553101451737)), (103, np.float64(0.06239469395999967)), (595, np.float64(0.062254028139523535)), (59, np.float64(0.061916154154120315)), (101, np.float64(0.06185567668258639)), (91, np.float64(0.061848535680570395)), (136, np.float64(0.06095349699600165)), (175, np.float64(0.06095349699600165)), (488, np.float64(0.06092641191375967)), (148, np.float64(0.06091197338087645)), (133, np.float64(0.06083503675779381)), (560, np.float64(0.06079410520456841)), (150, np.float64(0.06031562364449742)), (141, np.float64(0.06030559750146868)), (413, np.float64(0.06002328063235413)), (111, np.float64(0.05998052672984099)), (207, np.float64(0.059952272376188616)), (235, np.float64(0.05956773229869722)), (184, np.float64(0.05940762482001579)), (310, np.float64(0.05940747644142827)), (208, np.float64(0.05940120193324028)), (391, np.float64(0.05924567724334408)), (185, np.float64(0.05917639073484389)), (428, np.float64(0.05917537186405233)), (453, np.float64(0.05911550279252273)), (426, np.float64(0.05901215364453602)), (545, np.float64(0.05854320654506858)), (171, np.float64(0.05848997909480669)), (541, np.float64(0.05795087819419131)), (516, np.float64(0.057899326343678954)), (26, np.float64(0.05788928528004015)), (567, np.float64(0.05785696456436008)), (135, np.float64(0.057854994143843264)), (161, np.float64(0.05768128526961864)), (636, np.float64(0.057664603760367285)), (120, np.float64(0.057639575199232615)), (480, np.float64(0.057460007944987936)), (102, np.float64(0.05727759501343592)), (455, np.float64(0.05723931014649796)), (365, np.float64(0.057089635395740315)), (146, np.float64(0.05705539657348062)), (105, np.float64(0.0570067866549755)), (741, np.float64(0.056964862179723345)), (356, np.float64(0.05684646346796423)), (600, np.float64(0.05670042731145346)), (209, np.float64(0.056669156770584136)), (473, np.float64(0.05649442468231906)), (421, np.float64(0.05639684073551581)), (149, np.float64(0.05566268953243426)), (255, np.float64(0.05560420797884784)), (61, np.float64(0.05554817586933386)), (472, np.float64(0.05547325185026999)), (15, np.float64(0.055350648342246074)), (248, np.float64(0.05508171454878265)), (158, np.float64(0.05504171713445394)), (382, np.float64(0.05493809652028284)), (532, np.float64(0.054937232385196724)), (142, np.float64(0.05489426779038509)), (216, np.float64(0.05472853490103189)), (363, np.float64(0.05451161253577696)), (311, np.float64(0.054313178828981894)), (424, np.float64(0.054305865977054356)), (491, np.float64(0.05413457491620539)), (195, np.float64(0.05412127782851901)), (288, np.float64(0.053950991873757)), (218, np.float64(0.05391254441844621)), (35, np.float64(0.05386769594170907)), (231, np.float64(0.053744934791868364)), (389, np.float64(0.053620552133982376)), (189, np.float64(0.05351685181284826)), (126, np.float64(0.053391272999879134)), (534, np.float64(0.05338332506663367)), (261, np.float64(0.05309015412826765)), (188, np.float64(0.052993897515477055)), (166, np.float64(0.05284172647619109)), (590, np.float64(0.05264096078661995)), (138, np.float64(0.052629782840397855)), (622, np.float64(0.05188952501465104)), (202, np.float64(0.05168909962587268)), (409, np.float64(0.05168017153496493)), (151, np.float64(0.05144037272701751)), (251, np.float64(0.05138198879009466)), (221, np.float64(0.05065711766172944)), (160, np.float64(0.050565118846210705)), (139, np.float64(0.05048060686718116)), (825, np.float64(0.05008211806681376)), (157, np.float64(0.05003662961589576)), (86, np.float64(0.04994550583864818)), (236, np.float64(0.04993896888218823)), (650, np.float64(0.049918748087359466)), (213, np.float64(0.04984521889077452)), (641, np.float64(0.049266262790733706)), (301, np.float64(0.04908110340720016)), (597, np.float64(0.048952057954654335)), (196, np.float64(0.04889435118772552)), (353, np.float64(0.04832302877122947)), (571, np.float64(0.04806816862163993)), (237, np.float64(0.047961428029921115)), (156, np.float64(0.04774990698149914)), (219, np.float64(0.04739272060690828)), (230, np.float64(0.047389643546619786)), (232, np.float64(0.04738575141575104)), (198, np.float64(0.04725092967129079)), (492, np.float64(0.04718637252128524)), (500, np.float64(0.04718285751445247)), (223, np.float64(0.046647970681954073)), (121, np.float64(0.046574746645037884)), (132, np.float64(0.046566920618074235)), (179, np.float64(0.04611954046263088)), (122, np.float64(0.045732344678124086)), (605, np.float64(0.045658967507603905)), (886, np.float64(0.04560689312681478)), (167, np.float64(0.04552684510705874)), (524, np.float64(0.04538040610137001)), (257, np.float64(0.0453300065762858)), (90, np.float64(0.045254757006161335)), (152, np.float64(0.04501892065344385)), (458, np.float64(0.04481557521136205)), (205, np.float64(0.04460854386686739)), (238, np.float64(0.04447895922876267)), (286, np.float64(0.0444009631557736)), (743, np.float64(0.04432877869193814)), (181, np.float64(0.044179846085724145)), (594, np.float64(0.043901313695155965)), (100, np.float64(0.04369306303252265)), (129, np.float64(0.04355527170245447)), (3, np.float64(0.04280544768823441)), (685, np.float64(0.042360435526563996)), (89, np.float64(0.04187670628374672)), (118, np.float64(0.04180430622024682)), (170, np.float64(0.041258136035953255)), (604, np.float64(0.041249745047052845)), (386, np.float64(0.041223515727381935)), (217, np.float64(0.04102610967965852)), (450, np.float64(0.04093466533459445)), (252, np.float64(0.0409235811650278)), (16, np.float64(0.04083432958676101)), (368, np.float64(0.040744784942811745)), (586, np.float64(0.040570204751831)), (454, np.float64(0.040487804916397356)), (17, np.float64(0.04030033991658495)), (446, np.float64(0.03953790015039844)), (352, np.float64(0.039335344265749035)), (164, np.float64(0.0376754068203449)), (4, np.float64(0.0)), (5, np.float64(0.0)), (6, np.float64(0.0)), (7, np.float64(0.0)), (8, np.float64(0.0)), (10, np.float64(0.0)), (11, np.float64(0.0)), (12, np.float64(0.0)), (13, np.float64(0.0)), (14, np.float64(0.0)), (18, np.float64(0.0)), (19, np.float64(0.0)), (21, np.float64(0.0)), (22, np.float64(0.0)), (23, np.float64(0.0)), (25, np.float64(0.0)), (27, np.float64(0.0)), (28, np.float64(0.0)), (30, np.float64(0.0)), (31, np.float64(0.0)), (36, np.float64(0.0)), (37, np.float64(0.0)), (38, np.float64(0.0)), (39, np.float64(0.0)), (40, np.float64(0.0)), (41, np.float64(0.0)), (43, np.float64(0.0)), (44, np.float64(0.0)), (45, np.float64(0.0)), (46, np.float64(0.0)), (47, np.float64(0.0)), (48, np.float64(0.0)), (51, np.float64(0.0)), (52, np.float64(0.0)), (53, np.float64(0.0)), (55, np.float64(0.0)), (57, np.float64(0.0)), (62, np.float64(0.0)), (64, np.float64(0.0)), (65, np.float64(0.0)), (66, np.float64(0.0)), (67, np.float64(0.0)), (68, np.float64(0.0)), (69, np.float64(0.0)), (70, np.float64(0.0)), (72, np.float64(0.0)), (73, np.float64(0.0)), (74, np.float64(0.0)), (75, np.float64(0.0)), (76, np.float64(0.0)), (78, np.float64(0.0)), (80, np.float64(0.0)), (82, np.float64(0.0)), (83, np.float64(0.0)), (84, np.float64(0.0)), (85, np.float64(0.0)), (87, np.float64(0.0)), (88, np.float64(0.0)), (241, np.float64(0.0)), (242, np.float64(0.0)), (243, np.float64(0.0)), (244, np.float64(0.0)), (246, np.float64(0.0)), (247, np.float64(0.0)), (250, np.float64(0.0)), (254, np.float64(0.0)), (259, np.float64(0.0)), (260, np.float64(0.0)), (262, np.float64(0.0)), (263, np.float64(0.0)), (266, np.float64(0.0)), (267, np.float64(0.0)), (268, np.float64(0.0)), (271, np.float64(0.0)), (272, np.float64(0.0)), (273, np.float64(0.0)), (274, np.float64(0.0)), (276, np.float64(0.0)), (277, np.float64(0.0)), (278, np.float64(0.0)), (280, np.float64(0.0)), (281, np.float64(0.0)), (283, np.float64(0.0)), (285, np.float64(0.0)), (287, np.float64(0.0)), (290, np.float64(0.0)), (292, np.float64(0.0)), (293, np.float64(0.0)), (294, np.float64(0.0)), (295, np.float64(0.0)), (296, np.float64(0.0)), (297, np.float64(0.0)), (298, np.float64(0.0)), (299, np.float64(0.0)), (300, np.float64(0.0)), (302, np.float64(0.0)), (304, np.float64(0.0)), (305, np.float64(0.0)), (306, np.float64(0.0)), (307, np.float64(0.0)), (308, np.float64(0.0)), (309, np.float64(0.0)), (312, np.float64(0.0)), (313, np.float64(0.0)), (314, np.float64(0.0)), (315, np.float64(0.0)), (316, np.float64(0.0)), (317, np.float64(0.0)), (318, np.float64(0.0)), (319, np.float64(0.0)), (320, np.float64(0.0)), (322, np.float64(0.0)), (324, np.float64(0.0)), (325, np.float64(0.0)), (327, np.float64(0.0)), (328, np.float64(0.0)), (330, np.float64(0.0)), (332, np.float64(0.0)), (333, np.float64(0.0)), (334, np.float64(0.0)), (335, np.float64(0.0)), (336, np.float64(0.0)), (338, np.float64(0.0)), (339, np.float64(0.0)), (340, np.float64(0.0)), (341, np.float64(0.0)), (342, np.float64(0.0)), (343, np.float64(0.0)), (344, np.float64(0.0)), (346, np.float64(0.0)), (348, np.float64(0.0)), (349, np.float64(0.0)), (350, np.float64(0.0)), (351, np.float64(0.0)), (354, np.float64(0.0)), (355, np.float64(0.0)), (357, np.float64(0.0)), (358, np.float64(0.0)), (359, np.float64(0.0)), (360, np.float64(0.0)), (364, np.float64(0.0)), (367, np.float64(0.0)), (369, np.float64(0.0)), (370, np.float64(0.0)), (371, np.float64(0.0)), (372, np.float64(0.0)), (373, np.float64(0.0)), (374, np.float64(0.0)), (375, np.float64(0.0)), (376, np.float64(0.0)), (377, np.float64(0.0)), (378, np.float64(0.0)), (379, np.float64(0.0)), (380, np.float64(0.0)), (381, np.float64(0.0)), (383, np.float64(0.0)), (385, np.float64(0.0)), (387, np.float64(0.0)), (388, np.float64(0.0)), (390, np.float64(0.0)), (392, np.float64(0.0)), (393, np.float64(0.0)), (394, np.float64(0.0)), (396, np.float64(0.0)), (397, np.float64(0.0)), (398, np.float64(0.0)), (399, np.float64(0.0)), (400, np.float64(0.0)), (402, np.float64(0.0)), (403, np.float64(0.0)), (404, np.float64(0.0)), (405, np.float64(0.0)), (406, np.float64(0.0)), (408, np.float64(0.0)), (410, np.float64(0.0)), (411, np.float64(0.0)), (412, np.float64(0.0)), (414, np.float64(0.0)), (415, np.float64(0.0)), (416, np.float64(0.0)), (417, np.float64(0.0)), (418, np.float64(0.0)), (420, np.float64(0.0)), (425, np.float64(0.0)), (429, np.float64(0.0)), (430, np.float64(0.0)), (432, np.float64(0.0)), (433, np.float64(0.0)), (434, np.float64(0.0)), (435, np.float64(0.0)), (438, np.float64(0.0)), (440, np.float64(0.0)), (441, np.float64(0.0)), (442, np.float64(0.0)), (443, np.float64(0.0)), (444, np.float64(0.0)), (447, np.float64(0.0)), (448, np.float64(0.0)), (452, np.float64(0.0)), (457, np.float64(0.0)), (459, np.float64(0.0)), (465, np.float64(0.0)), (466, np.float64(0.0)), (468, np.float64(0.0)), (470, np.float64(0.0)), (471, np.float64(0.0)), (474, np.float64(0.0)), (475, np.float64(0.0)), (478, np.float64(0.0)), (479, np.float64(0.0)), (481, np.float64(0.0)), (482, np.float64(0.0)), (484, np.float64(0.0)), (485, np.float64(0.0)), (487, np.float64(0.0)), (489, np.float64(0.0)), (490, np.float64(0.0)), (493, np.float64(0.0)), (494, np.float64(0.0)), (495, np.float64(0.0)), (496, np.float64(0.0)), (497, np.float64(0.0)), (498, np.float64(0.0)), (499, np.float64(0.0)), (503, np.float64(0.0)), (504, np.float64(0.0)), (505, np.float64(0.0)), (506, np.float64(0.0)), (507, np.float64(0.0)), (508, np.float64(0.0)), (509, np.float64(0.0)), (510, np.float64(0.0)), (511, np.float64(0.0)), (512, np.float64(0.0)), (513, np.float64(0.0)), (514, np.float64(0.0)), (515, np.float64(0.0)), (517, np.float64(0.0)), (518, np.float64(0.0)), (519, np.float64(0.0)), (520, np.float64(0.0)), (521, np.float64(0.0)), (522, np.float64(0.0)), (523, np.float64(0.0)), (526, np.float64(0.0)), (527, np.float64(0.0)), (529, np.float64(0.0)), (530, np.float64(0.0)), (533, np.float64(0.0)), (535, np.float64(0.0)), (536, np.float64(0.0)), (537, np.float64(0.0)), (538, np.float64(0.0)), (539, np.float64(0.0)), (540, np.float64(0.0)), (542, np.float64(0.0)), (543, np.float64(0.0)), (544, np.float64(0.0)), (546, np.float64(0.0)), (547, np.float64(0.0)), (548, np.float64(0.0)), (549, np.float64(0.0)), (550, np.float64(0.0)), (552, np.float64(0.0)), (554, np.float64(0.0)), (555, np.float64(0.0)), (556, np.float64(0.0)), (557, np.float64(0.0)), (561, np.float64(0.0)), (562, np.float64(0.0)), (563, np.float64(0.0)), (564, np.float64(0.0)), (565, np.float64(0.0)), (566, np.float64(0.0)), (568, np.float64(0.0)), (569, np.float64(0.0)), (570, np.float64(0.0)), (572, np.float64(0.0)), (573, np.float64(0.0)), (574, np.float64(0.0)), (576, np.float64(0.0)), (577, np.float64(0.0)), (578, np.float64(0.0)), (579, np.float64(0.0)), (580, np.float64(0.0)), (581, np.float64(0.0)), (582, np.float64(0.0)), (583, np.float64(0.0)), (584, np.float64(0.0)), (585, np.float64(0.0)), (588, np.float64(0.0)), (591, np.float64(0.0)), (592, np.float64(0.0)), (593, np.float64(0.0)), (596, np.float64(0.0)), (598, np.float64(0.0)), (599, np.float64(0.0)), (601, np.float64(0.0)), (602, np.float64(0.0)), (603, np.float64(0.0)), (607, np.float64(0.0)), (608, np.float64(0.0)), (609, np.float64(0.0)), (611, np.float64(0.0)), (612, np.float64(0.0)), (613, np.float64(0.0)), (615, np.float64(0.0)), (616, np.float64(0.0)), (617, np.float64(0.0)), (618, np.float64(0.0)), (619, np.float64(0.0)), (621, np.float64(0.0)), (623, np.float64(0.0)), (624, np.float64(0.0)), (625, np.float64(0.0)), (627, np.float64(0.0)), (629, np.float64(0.0)), (630, np.float64(0.0)), (631, np.float64(0.0)), (632, np.float64(0.0)), (633, np.float64(0.0)), (634, np.float64(0.0)), (635, np.float64(0.0)), (637, np.float64(0.0)), (639, np.float64(0.0)), (640, np.float64(0.0)), (642, np.float64(0.0)), (643, np.float64(0.0)), (644, np.float64(0.0)), (646, np.float64(0.0)), (647, np.float64(0.0)), (648, np.float64(0.0)), (649, np.float64(0.0)), (651, np.float64(0.0)), (652, np.float64(0.0)), (653, np.float64(0.0)), (654, np.float64(0.0)), (655, np.float64(0.0)), (656, np.float64(0.0)), (657, np.float64(0.0)), (658, np.float64(0.0)), (659, np.float64(0.0)), (660, np.float64(0.0)), (661, np.float64(0.0)), (662, np.float64(0.0)), (663, np.float64(0.0)), (664, np.float64(0.0)), (665, np.float64(0.0)), (666, np.float64(0.0)), (667, np.float64(0.0)), (668, np.float64(0.0)), (669, np.float64(0.0)), (670, np.float64(0.0)), (671, np.float64(0.0)), (672, np.float64(0.0)), (673, np.float64(0.0)), (674, np.float64(0.0)), (675, np.float64(0.0)), (676, np.float64(0.0)), (677, np.float64(0.0)), (678, np.float64(0.0)), (679, np.float64(0.0)), (680, np.float64(0.0)), (681, np.float64(0.0)), (682, np.float64(0.0)), (683, np.float64(0.0)), (684, np.float64(0.0)), (686, np.float64(0.0)), (687, np.float64(0.0)), (688, np.float64(0.0)), (690, np.float64(0.0)), (691, np.float64(0.0)), (692, np.float64(0.0)), (693, np.float64(0.0)), (694, np.float64(0.0)), (695, np.float64(0.0)), (696, np.float64(0.0)), (698, np.float64(0.0)), (699, np.float64(0.0)), (700, np.float64(0.0)), (701, np.float64(0.0)), (702, np.float64(0.0)), (703, np.float64(0.0)), (704, np.float64(0.0)), (705, np.float64(0.0)), (706, np.float64(0.0)), (709, np.float64(0.0)), (710, np.float64(0.0)), (711, np.float64(0.0)), (713, np.float64(0.0)), (714, np.float64(0.0)), (715, np.float64(0.0)), (716, np.float64(0.0)), (717, np.float64(0.0)), (718, np.float64(0.0)), (719, np.float64(0.0)), (720, np.float64(0.0)), (721, np.float64(0.0)), (722, np.float64(0.0)), (723, np.float64(0.0)), (725, np.float64(0.0)), (726, np.float64(0.0)), (727, np.float64(0.0)), (728, np.float64(0.0)), (729, np.float64(0.0)), (730, np.float64(0.0)), (731, np.float64(0.0)), (732, np.float64(0.0)), (734, np.float64(0.0)), (735, np.float64(0.0)), (736, np.float64(0.0)), (737, np.float64(0.0)), (738, np.float64(0.0)), (739, np.float64(0.0)), (742, np.float64(0.0)), (744, np.float64(0.0)), (745, np.float64(0.0)), (746, np.float64(0.0)), (747, np.float64(0.0)), (748, np.float64(0.0)), (749, np.float64(0.0)), (750, np.float64(0.0)), (751, np.float64(0.0)), (752, np.float64(0.0)), (753, np.float64(0.0)), (754, np.float64(0.0)), (756, np.float64(0.0)), (757, np.float64(0.0)), (758, np.float64(0.0)), (759, np.float64(0.0)), (760, np.float64(0.0)), (761, np.float64(0.0)), (762, np.float64(0.0)), (763, np.float64(0.0)), (764, np.float64(0.0)), (765, np.float64(0.0)), (766, np.float64(0.0)), (767, np.float64(0.0)), (768, np.float64(0.0)), (769, np.float64(0.0)), (771, np.float64(0.0)), (772, np.float64(0.0)), (773, np.float64(0.0)), (774, np.float64(0.0)), (775, np.float64(0.0)), (776, np.float64(0.0)), (777, np.float64(0.0)), (778, np.float64(0.0)), (781, np.float64(0.0)), (782, np.float64(0.0)), (783, np.float64(0.0)), (785, np.float64(0.0)), (786, np.float64(0.0)), (787, np.float64(0.0)), (788, np.float64(0.0)), (789, np.float64(0.0)), (790, np.float64(0.0)), (791, np.float64(0.0)), (792, np.float64(0.0)), (793, np.float64(0.0)), (794, np.float64(0.0)), (795, np.float64(0.0)), (796, np.float64(0.0)), (797, np.float64(0.0)), (798, np.float64(0.0)), (799, np.float64(0.0)), (800, np.float64(0.0)), (801, np.float64(0.0)), (802, np.float64(0.0)), (803, np.float64(0.0)), (804, np.float64(0.0)), (805, np.float64(0.0)), (806, np.float64(0.0)), (807, np.float64(0.0)), (808, np.float64(0.0)), (809, np.float64(0.0)), (810, np.float64(0.0)), (811, np.float64(0.0)), (812, np.float64(0.0)), (813, np.float64(0.0)), (814, np.float64(0.0)), (815, np.float64(0.0)), (816, np.float64(0.0)), (817, np.float64(0.0)), (818, np.float64(0.0)), (819, np.float64(0.0)), (820, np.float64(0.0)), (821, np.float64(0.0)), (822, np.float64(0.0)), (824, np.float64(0.0)), (826, np.float64(0.0)), (827, np.float64(0.0)), (829, np.float64(0.0)), (830, np.float64(0.0)), (832, np.float64(0.0)), (833, np.float64(0.0)), (835, np.float64(0.0)), (837, np.float64(0.0)), (838, np.float64(0.0)), (840, np.float64(0.0)), (841, np.float64(0.0)), (842, np.float64(0.0)), (843, np.float64(0.0)), (844, np.float64(0.0)), (845, np.float64(0.0)), (846, np.float64(0.0)), (847, np.float64(0.0)), (848, np.float64(0.0)), (849, np.float64(0.0)), (850, np.float64(0.0)), (851, np.float64(0.0)), (852, np.float64(0.0)), (853, np.float64(0.0)), (855, np.float64(0.0)), (856, np.float64(0.0)), (857, np.float64(0.0)), (858, np.float64(0.0)), (860, np.float64(0.0)), (861, np.float64(0.0)), (862, np.float64(0.0)), (864, np.float64(0.0)), (865, np.float64(0.0)), (866, np.float64(0.0)), (868, np.float64(0.0)), (869, np.float64(0.0)), (870, np.float64(0.0)), (871, np.float64(0.0)), (872, np.float64(0.0)), (873, np.float64(0.0)), (874, np.float64(0.0)), (875, np.float64(0.0)), (876, np.float64(0.0)), (877, np.float64(0.0)), (878, np.float64(0.0)), (879, np.float64(0.0)), (880, np.float64(0.0)), (881, np.float64(0.0)), (882, np.float64(0.0)), (883, np.float64(0.0)), (884, np.float64(0.0)), (885, np.float64(0.0)), (887, np.float64(0.0)), (888, np.float64(0.0)), (890, np.float64(0.0)), (891, np.float64(0.0)), (892, np.float64(0.0)), (893, np.float64(0.0)), (895, np.float64(0.0)), (896, np.float64(0.0)), (897, np.float64(0.0)), (898, np.float64(0.0)), (899, np.float64(0.0)), (900, np.float64(0.0)), (901, np.float64(0.0)), (902, np.float64(0.0)), (903, np.float64(0.0)), (904, np.float64(0.0)), (905, np.float64(0.0)), (906, np.float64(0.0)), (907, np.float64(0.0)), (908, np.float64(0.0)), (909, np.float64(0.0)), (910, np.float64(0.0)), (911, np.float64(0.0)), (912, np.float64(0.0)), (913, np.float64(0.0)), (915, np.float64(0.0)), (916, np.float64(0.0)), (917, np.float64(0.0)), (918, np.float64(0.0)), (919, np.float64(0.0)), (920, np.float64(0.0)), (921, np.float64(0.0)), (922, np.float64(0.0)), (923, np.float64(0.0)), (924, np.float64(0.0)), (925, np.float64(0.0)), (926, np.float64(0.0)), (927, np.float64(0.0)), (928, np.float64(0.0)), (929, np.float64(0.0)), (930, np.float64(0.0)), (932, np.float64(0.0)), (933, np.float64(0.0)), (934, np.float64(0.0)), (935, np.float64(0.0)), (936, np.float64(0.0)), (937, np.float64(0.0)), (938, np.float64(0.0)), (940, np.float64(0.0)), (941, np.float64(0.0)), (942, np.float64(0.0)), (943, np.float64(0.0)), (944, np.float64(0.0)), (945, np.float64(0.0)), (946, np.float64(0.0)), (947, np.float64(0.0)), (948, np.float64(0.0)), (949, np.float64(0.0)), (950, np.float64(0.0)), (951, np.float64(0.0)), (952, np.float64(0.0)), (953, np.float64(0.0)), (954, np.float64(0.0)), (955, np.float64(0.0)), (956, np.float64(0.0)), (957, np.float64(0.0)), (958, np.float64(0.0)), (959, np.float64(0.0)), (960, np.float64(0.0)), (961, np.float64(0.0)), (962, np.float64(0.0)), (963, np.float64(0.0)), (964, np.float64(0.0)), (965, np.float64(0.0)), (966, np.float64(0.0)), (967, np.float64(0.0)), (968, np.float64(0.0)), (969, np.float64(0.0))]\n"
          ]
        }
      ]
    },
    {
      "cell_type": "code",
      "source": [
        "#get recommendation from the user preferance\n",
        "def get_recommendation(movie_name):\n",
        "  list_of_all_titles = movie_data['Movie'].tolist()\n",
        "  find_close_match = difflib.get_close_matches(movie_name, list_of_all_titles)\n",
        "  close_match = find_close_match[0]\n",
        "  index_of_the_movie = movie_data[movie_data.Movie == close_match]['movie_index'].values[0]\n",
        "  similarity_score = list(enumerate(similarity[index_of_the_movie]))\n",
        "  sorted_similar_movies = sorted(similarity_score, key = lambda x:x[1], reverse = True)\n",
        "  print('Movies suggested for you : \\n')\n",
        "\n",
        "  i = 1\n",
        "  for movie in sorted_similar_movies:\n",
        "    index = movie[0]\n",
        "    title_from_index = movie_data[movie_data.movie_index==index]['Movie'].values[0]\n",
        "    if (i<11):\n",
        "      print(i, '.',title_from_index)\n",
        "      i+=1\n",
        "\n",
        "\n",
        "movie_name = input(' Enter your favourite movie name : ')\n",
        "while(True):\n",
        "  if(movie_name == 'stop' or movie_name == 'exit'):\n",
        "    print('Thanks for Ask Movie Recommendation ')\n",
        "    break\n",
        "  else:\n",
        "      get_recommendation(movie_name)\n",
        "      movie_name = input(' Enter your favourite movie name : ')"
      ],
      "metadata": {
        "colab": {
          "base_uri": "https://localhost:8080/"
        },
        "id": "J31u8XFhr_V5",
        "outputId": "b5745ce5-c3f9-4f6b-bb09-ef5d24cf6b4e"
      },
      "execution_count": null,
      "outputs": [
        {
          "output_type": "stream",
          "name": "stdout",
          "text": [
            " Enter your favourite movie name : iron man\n",
            "Movies suggested for you : \n",
            "\n",
            "1 . Iron Man\n",
            "2 . Iron Man 2\n",
            "3 . Iron Man 3\n",
            "4 . Spider-Man 3\n",
            "5 . District 9\n",
            "6 . Avatar\n",
            "7 . I Love You, Man\n",
            "8 . The Incredible Hulk\n",
            "9 . The Iron Lady\n",
            "10 . Man of Steel\n",
            " Enter your favourite movie name : spider man\n",
            "Movies suggested for you : \n",
            "\n",
            "1 . Spider-Man 3\n",
            "2 . The Amazing Spider-Man\n",
            "3 . Iron Man\n",
            "4 . District 9\n",
            "5 . Avatar\n",
            "6 . Iron Man 2\n",
            "7 . Man of Steel\n",
            "8 . Iron Man 3\n",
            "9 . Green Lantern\n",
            "10 . The Incredible Hulk\n",
            " Enter your favourite movie name : avatar\n",
            "Movies suggested for you : \n",
            "\n",
            "1 . Avatar\n",
            "2 . District 9\n",
            "3 . Iron Man\n",
            "4 . Spider-Man 3\n",
            "5 . Green Lantern\n",
            "6 . The Incredible Hulk\n",
            "7 . Taken\n",
            "8 . The Princess and the Frog\n",
            "9 . Beastly\n",
            "10 . Captain America: The First Avenger\n",
            " Enter your favourite movie name : exit\n",
            "Thanks for Ask Movie Recommendation \n"
          ]
        }
      ]
    }
  ]
}